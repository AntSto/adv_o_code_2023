{
 "cells": [
  {
   "cell_type": "code",
   "execution_count": 72,
   "id": "e029148b-8406-4a6d-8591-1ceb32ebc7b3",
   "metadata": {},
   "outputs": [],
   "source": [
    "ll='#.##..##.\\n\\\n",
    "..#.##.#.\\n\\\n",
    "##......#\\n\\\n",
    "##......#\\n\\\n",
    "..#.##.#.\\n\\\n",
    "..##..##.\\n\\\n",
    "#.#.##.#.'\n",
    "l2='#...##..#\\n\\\n",
    "#....#..#\\n\\\n",
    "..##..###\\n\\\n",
    "#####.##.\\n\\\n",
    "#####.##.\\n\\\n",
    "..##..###\\n\\\n",
    "#....#..#'"
   ]
  },
  {
   "cell_type": "code",
   "execution_count": 73,
   "id": "ea10d2cc-aa26-4a97-90d4-817c92f25fc6",
   "metadata": {},
   "outputs": [
    {
     "data": {
      "text/plain": [
       "['#...##..#',\n",
       " '#....#..#',\n",
       " '..##..###',\n",
       " '#####.##.',\n",
       " '#####.##.',\n",
       " '..##..###',\n",
       " '#....#..#']"
      ]
     },
     "execution_count": 73,
     "metadata": {},
     "output_type": "execute_result"
    }
   ],
   "source": [
    "l2=l2.split('\\n')\n",
    "l2"
   ]
  },
  {
   "cell_type": "code",
   "execution_count": 74,
   "id": "0993bf03-ff30-4930-bded-a5a0677c80e6",
   "metadata": {},
   "outputs": [
    {
     "name": "stdout",
     "output_type": "stream",
     "text": [
      "3 #####.##.\n"
     ]
    }
   ],
   "source": [
    "u=0\n",
    "c=0\n",
    "#horizontal\n",
    "for x in range(len(l2)):\n",
    "    if (x+1)<len(l2)and l2[x]==l2[x+1] :\n",
    "        print(x, l2[x])\n",
    "        # if l2[x-1]==l2[x+2]:\n",
    "#         verifier ou le x+1 et une autre ligne?\n",
    "        c+=(x+1)*100\n",
    "    "
   ]
  },
  {
   "cell_type": "code",
   "execution_count": 75,
   "id": "cdf2087f-37f3-45fc-a43b-9fb727811abc",
   "metadata": {},
   "outputs": [
    {
     "data": {
      "text/plain": [
       "['#.##..##.',\n",
       " '..#.##.#.',\n",
       " '##......#',\n",
       " '##......#',\n",
       " '..#.##.#.',\n",
       " '..##..##.',\n",
       " '#.#.##.#.']"
      ]
     },
     "execution_count": 75,
     "metadata": {},
     "output_type": "execute_result"
    }
   ],
   "source": [
    "ll=ll.split('\\n')\n",
    "ll"
   ]
  },
  {
   "cell_type": "code",
   "execution_count": 76,
   "id": "1f54d313-d3f8-4374-b503-ee50ac015c6d",
   "metadata": {},
   "outputs": [
    {
     "data": {
      "text/plain": [
       "['#.##..#',\n",
       " '..##...',\n",
       " '##..###',\n",
       " '#....#.',\n",
       " '.#..#.#',\n",
       " '.#..#.#',\n",
       " '#....#.',\n",
       " '##..###',\n",
       " '..##...']"
      ]
     },
     "execution_count": 76,
     "metadata": {},
     "output_type": "execute_result"
    }
   ],
   "source": [
    "#vertical\n",
    "ll= [''.join(x) for x in zip(*(ll))]\n",
    "ll"
   ]
  },
  {
   "cell_type": "code",
   "execution_count": 77,
   "id": "13aa325d-307e-430f-9733-bdd3fb6cabb3",
   "metadata": {},
   "outputs": [
    {
     "name": "stdout",
     "output_type": "stream",
     "text": [
      "4 .#..#.#\n"
     ]
    }
   ],
   "source": [
    "\n",
    "for x in range(len(ll)):\n",
    "    if (x+1)<len(ll)and ll[x]==ll[x+1] :\n",
    "        print(x, ll[x])\n",
    "        # if l2[x-1]==l2[x+2]:\n",
    "#         verifier ou le x+1 et une autre ligne?\n",
    "        u+=(x+1)"
   ]
  },
  {
   "cell_type": "code",
   "execution_count": 85,
   "id": "da5da88a-374a-4a1c-a323-fed30c0c56b6",
   "metadata": {},
   "outputs": [
    {
     "data": {
      "text/plain": [
       "405"
      ]
     },
     "execution_count": 85,
     "metadata": {},
     "output_type": "execute_result"
    }
   ],
   "source": [
    "c+u"
   ]
  },
  {
   "cell_type": "code",
   "execution_count": 109,
   "id": "0811922a-63b3-4065-9211-0ef6b6c7f6e4",
   "metadata": {},
   "outputs": [],
   "source": [
    "import re"
   ]
  },
  {
   "cell_type": "code",
   "execution_count": 274,
   "id": "545fb92d-2cdc-48fc-b53a-4c7126fcd687",
   "metadata": {},
   "outputs": [],
   "source": [
    "ll='#.##..##.\\n\\\n",
    "..#.##.#.\\n\\\n",
    "##......#\\n\\\n",
    "##......#\\n\\\n",
    "..#.##.#.\\n\\\n",
    "..##..##.\\n\\\n",
    "#.#.##.#.\\n\\\n",
    "\\n\\\n",
    "#...##..#\\n\\\n",
    "#....#..#\\n\\\n",
    "..##..###\\n\\\n",
    "#####.##.\\n\\\n",
    "#####.##.\\n\\\n",
    "..##..###\\n\\\n",
    "#....#..#'\n"
   ]
  },
  {
   "cell_type": "code",
   "execution_count": 288,
   "id": "35d9bea4-56b0-4ea1-854c-e141d836d0e1",
   "metadata": {},
   "outputs": [],
   "source": [
    "with open('day13.txt') as f:\n",
    "    ll = f.readlines()\n",
    "ll=''.join(ll)"
   ]
  },
  {
   "cell_type": "code",
   "execution_count": 290,
   "id": "3a54634d-a5ea-40ef-8989-637d9d85bd56",
   "metadata": {},
   "outputs": [],
   "source": [
    "l3=ll.replace('\\n\\n','@').split('@')"
   ]
  },
  {
   "cell_type": "code",
   "execution_count": 292,
   "id": "8cece5b6-b5e3-4190-b1d7-f7310bb1cc9e",
   "metadata": {},
   "outputs": [],
   "source": [
    "full_list=[]\n",
    "for item in l3:\n",
    "    item=item.split('\\n')\n",
    "    full_list.append(item)\n",
    "    \n",
    "# full_list\n"
   ]
  },
  {
   "cell_type": "code",
   "execution_count": 294,
   "id": "6b6a1fb8-88b3-47f7-bc85-be430763695b",
   "metadata": {},
   "outputs": [
    {
     "name": "stdout",
     "output_type": "stream",
     "text": [
      "8\n",
      "2\n",
      "True 2\n",
      "4\n",
      "7\n",
      "True 7\n",
      "14\n",
      "8\n",
      "10\n",
      "True 10\n",
      "2\n",
      "True 2\n",
      "13\n",
      "True 13\n",
      "7\n",
      "True 7\n",
      "7\n",
      "1\n",
      "True 1\n",
      "3\n",
      "8\n",
      "True 8\n",
      "7\n",
      "16\n",
      "True 16\n",
      "11\n",
      "True 11\n",
      "2\n",
      "4\n",
      "12\n",
      "True 12\n",
      "2\n",
      "True 2\n",
      "9\n",
      "1\n",
      "True 1\n",
      "7\n",
      "9\n",
      "True 9\n",
      "9\n",
      "True 9\n",
      "4\n",
      "10\n",
      "True 10\n",
      "4\n",
      "8\n",
      "True 8\n",
      "6\n",
      "16\n",
      "True 16\n",
      "13\n",
      "2\n",
      "True 2\n",
      "8\n",
      "3\n",
      "True 3\n",
      "5\n",
      "16\n",
      "True 16\n",
      "3\n",
      "5\n",
      "True 5\n",
      "7\n",
      "2\n",
      "True 2\n",
      "10\n",
      "11\n",
      "11\n",
      "True 11\n",
      "1\n",
      "True 1\n",
      "7\n",
      "True 7\n",
      "8\n",
      "True 8\n",
      "2\n",
      "4\n",
      "14\n",
      "True 14\n",
      "2\n",
      "True 2\n",
      "11\n",
      "1\n",
      "True 1\n",
      "10\n",
      "True 10\n",
      "8\n",
      "True 8\n",
      "7\n",
      "15\n",
      "True 15\n",
      "6\n",
      "10\n",
      "True 10\n",
      "7\n",
      "True 7\n",
      "8\n",
      "3\n",
      "True 3\n",
      "2\n",
      "14\n",
      "True 14\n",
      "8\n",
      "3\n",
      "True 3\n",
      "7\n",
      "True 7\n",
      "6\n",
      "True 6\n",
      "6\n",
      "True 6\n",
      "14\n",
      "True 14\n",
      "3\n",
      "15\n",
      "True 15\n",
      "13\n",
      "4\n",
      "8\n",
      "True 8\n",
      "1\n",
      "True 1\n",
      "9\n",
      "1\n",
      "True 1\n",
      "2\n",
      "True 2\n",
      "3\n",
      "True 3\n",
      "8\n",
      "16\n",
      "True 16\n",
      "8\n",
      "6\n",
      "12\n",
      "True 12\n",
      "1\n",
      "True 1\n",
      "9\n",
      "6\n",
      "12\n",
      "True 12\n",
      "2\n",
      "True 2\n",
      "8\n",
      "2\n",
      "True 2\n",
      "7\n",
      "14\n",
      "True 14\n",
      "10\n",
      "True 10\n",
      "9\n",
      "True 9\n",
      "7\n",
      "4\n",
      "True 4\n",
      "10\n",
      "10\n",
      "True 10\n",
      "4\n",
      "7\n",
      "True 7\n",
      "7\n",
      "14\n",
      "True 14\n",
      "5\n",
      "True 5\n",
      "7\n",
      "1\n",
      "True 1\n",
      "11\n",
      "11\n",
      "12\n",
      "True 12\n",
      "4\n",
      "True 4\n",
      "2\n",
      "True 2\n",
      "3\n",
      "True 3\n",
      "5\n",
      "15\n",
      "True 15\n",
      "12\n",
      "True 12\n",
      "4\n",
      "True 4\n",
      "2\n",
      "True 2\n",
      "7\n",
      "7\n",
      "True 7\n",
      "16\n",
      "True 16\n",
      "3\n",
      "6\n",
      "True 6\n",
      "11\n",
      "True 11\n",
      "11\n",
      "True 11\n",
      "1\n",
      "True 1\n",
      "8\n",
      "1\n",
      "True 1\n",
      "10\n",
      "4\n",
      "True 4\n",
      "10\n",
      "2\n",
      "True 2\n",
      "11\n",
      "True 11\n",
      "8\n",
      "11\n",
      "True 11\n",
      "14\n",
      "1\n",
      "True 1\n",
      "7\n",
      "10\n",
      "1\n",
      "True 1\n",
      "2\n",
      "True 2\n",
      "10\n",
      "True 10\n",
      "2\n",
      "True 2\n",
      "6\n",
      "9\n",
      "True 9\n",
      "4\n",
      "10\n",
      "True 10\n",
      "2\n",
      "True 2\n",
      "8\n",
      "11\n",
      "2\n",
      "16\n",
      "True 16\n",
      "8\n",
      "True 8\n",
      "14\n",
      "9\n",
      "1\n",
      "True 1\n",
      "2\n",
      "True 2\n",
      "2\n",
      "4\n",
      "True 4\n",
      "6\n",
      "11\n",
      "1\n",
      "True 1\n",
      "5\n",
      "2\n",
      "True 2\n",
      "4\n",
      "True 4\n",
      "10\n",
      "True 10\n",
      "4\n",
      "4\n",
      "True 4\n"
     ]
    }
   ],
   "source": [
    "u=0\n",
    "c=0\n",
    "for y in range(len(full_list)):\n",
    "    l2=full_list[y]\n",
    "    # print(l2)\n",
    "    # horizontal\n",
    "    add=False\n",
    "    for x in range(len(l2)):\n",
    "        # add=False\n",
    "        # r=0\n",
    "        # on cherche la symétrie:\n",
    "        if (x+1)<len(l2) and l2[x]==l2[x+1]:\n",
    "            r=0\n",
    "            print(x+1)\n",
    "            add=True\n",
    "        # tant que ligne suivante(+1) et ligne inf -1 sont dans la liste:\n",
    "            # for r in range(x):\n",
    "            while (x+r+1)<len(l2) and (x-r)>-1:  # and r<len(l2)/2:\n",
    "                # print(l2[x-r], l2[x+1+r])\n",
    "                if l2[x-r]!=l2[x+1+r]:\n",
    "                    add=False\n",
    "                    # print('false', l2[x-r], l2[x+1+r])\n",
    "                    break\n",
    "                else: # if l2[x-r]!=l2[x+1+r]:\n",
    "                    add=True\n",
    "                    # print('true', l2[x-r], l2[x+1+r])\n",
    "                    # break\n",
    "                r+=1\n",
    "                # print(add, x, 'x')\n",
    "        if add==True:\n",
    "            # print(add, x+1)\n",
    "            c+=(x+1)*100\n",
    "            add=False\n",
    "        else:\n",
    "            c+=0\n",
    "    # vertical\n",
    "    l2= [''.join(x) for x in zip(*(l2))]\n",
    "    add=False\n",
    "    for x in range(len(l2)):\n",
    "        # add=False\n",
    "        # r=0\n",
    "        # on cherche la symétrie:\n",
    "        if (x+1)<len(l2) and l2[x]==l2[x+1]:\n",
    "            r=0\n",
    "            print(x+1)\n",
    "            add=True\n",
    "        # tant que ligne suivante(+1) et ligne inf -1 sont dans la liste:\n",
    "            # for r in range(x):\n",
    "            while (x+r+1)<len(l2) and (x-r)>-1:  # and r<len(l2)/2:\n",
    "                # print(l2[x-r], l2[x+1+r])\n",
    "                if l2[x-r]!=l2[x+1+r]:\n",
    "                    add=False\n",
    "                    # print('false', l2[x-r], l2[x+1+r])\n",
    "                    break\n",
    "                else: # if l2[x-r]!=l2[x+1+r]:\n",
    "                    add=True\n",
    "                    # print('true', l2[x-r], l2[x+1+r])\n",
    "                    # break\n",
    "                r+=1\n",
    "                # print(add, x, 'x')\n",
    "        if add==True:\n",
    "            # print(add, x+1)\n",
    "            u+=(x+1)\n",
    "            add=False\n",
    "        else:\n",
    "            u+=0"
   ]
  },
  {
   "cell_type": "code",
   "execution_count": 296,
   "id": "af751e3c-ca46-4364-a431-59fc3c944802",
   "metadata": {},
   "outputs": [
    {
     "data": {
      "text/plain": [
       "31877"
      ]
     },
     "execution_count": 296,
     "metadata": {},
     "output_type": "execute_result"
    }
   ],
   "source": [
    "c+u"
   ]
  },
  {
   "cell_type": "code",
   "execution_count": null,
   "id": "8503c9a6-a645-4b02-9fa0-7a1d89eb8c8c",
   "metadata": {},
   "outputs": [],
   "source": []
  },
  {
   "cell_type": "code",
   "execution_count": 180,
   "id": "7a220351-1448-4871-af12-68bb4b0657ad",
   "metadata": {},
   "outputs": [],
   "source": [
    "u=0\n",
    "c=0\n",
    "for y in range(len(full_list)):\n",
    "    l2=full_list[y]\n",
    "    # print(l2)\n",
    "    # horizontal\n",
    "    for x in range(len(l2)):\n",
    "        # print(x, l2[x])\n",
    "        # revoir conditions car on perd les lignes si pas au milieu\n",
    "        if (x+1)<len(l2)and l2[x]==l2[x+1] :\n",
    "            if(x+2)<len(l2) and x-1 > -1 and l2[x-1]==l2[x+2]:\n",
    "                if(x+3)<len(l2) and x-2 > -1 and l2[x-2]==l2[x+3]:\n",
    "                    # print(x)  #, l2[x])\n",
    "            # if l2[x-1]==l2[x+2]:\n",
    "    #         verifier ou le x+1 et une autre ligne?\n",
    "                    c+=(x+1)*100\n",
    "    # vertical\n",
    "    ll= [''.join(x) for x in zip(*(l2))]\n",
    "    for x in range(len(ll)):\n",
    "        if (x+1)<len(ll)and ll[x]==ll[x+1] :\n",
    "            if (x+2)<len(ll)and x-1 >-1 and ll[x-1]==ll[x+2] :\n",
    "                if (x+3)<len(ll)and x-2 >-1 and ll[x-2]==ll[x+3] :\n",
    "                    # print(x)  #, ll[x])\n",
    "                    # if l2[x-1]==l2[x+2]:\n",
    "            #         verifier ou le x+1 et une autre ligne?\n",
    "                    u+=(x+1)"
   ]
  },
  {
   "cell_type": "code",
   "execution_count": 182,
   "id": "a7b916aa-b07a-439b-85d0-5cc7938cd72a",
   "metadata": {},
   "outputs": [
    {
     "data": {
      "text/plain": [
       "400"
      ]
     },
     "execution_count": 182,
     "metadata": {},
     "output_type": "execute_result"
    }
   ],
   "source": [
    "c"
   ]
  },
  {
   "cell_type": "code",
   "execution_count": 416,
   "id": "eddd5186-75c6-41c4-a8ee-f6aafe102dd1",
   "metadata": {},
   "outputs": [],
   "source": [
    "u=0\n",
    "c=0\n",
    "for y in range(len(full_list)):\n",
    "    l2=full_list[y]\n",
    "    \n",
    "    # horizontal\n",
    "    for x in range(len(l2)):\n",
    "        add=False\n",
    "        # # print(x, l2[x])\n",
    "        # # revoir conditions car on perd les lignes si pas au milieu\n",
    "        # # prendre la len(l2) et variable en fonction ?\n",
    "        if (x+1)<len(l2)and l2[x]==l2[x+1] :\n",
    "        #     if x+1 == len(l2):\n",
    "            # add=True\n",
    "            mid=int((len(l2)+1)/2-x)\n",
    "            for r in range(mid):\n",
    "                # print(r,'r',mid)\n",
    "                # print(l2[x-r])\n",
    "                if l2[x-r-1]==l2[x+2+r]:\n",
    "                    add=True \n",
    "                else:\n",
    "                    add=False\n",
    "        if add==True:\n",
    "            c+=(x+1)*100\n",
    "            # print(add, x+1)\n",
    "            add=False\n",
    "        \n",
    "    # # vertical\n",
    "    ll= [''.join(x) for x in zip(*(l2))]\n",
    "    for x in range(len(ll)):\n",
    "        # print(ll)\n",
    "        add=False\n",
    "        # # print(x, l2[x])\n",
    "        # # revoir conditions car on perd les lignes si pas au milieu\n",
    "        # # prendre la len(l2) et variable en fonction ?\n",
    "        if (x+1)<len(ll)and ll[x]==ll[x+1] :\n",
    "        #     if x+1 == len(l2):\n",
    "            # add=True\n",
    "            mid=int((len(ll)+1)/2-x)\n",
    "            for r in range(mid):\n",
    "                # print(r,'r',mid)\n",
    "                # print(ll[x-r-1], ll[x+r+2])\n",
    "                if ll[x-r-1]==ll[x+2+r]:\n",
    "                    add=True \n",
    "                else:\n",
    "                    add=False\n",
    "        if add==True:\n",
    "            u+=(x+1)\n",
    "            # c+=(x+1)*100\n",
    "            # print(add, x+1)\n",
    "            # add=False\n",
    "                    "
   ]
  },
  {
   "cell_type": "code",
   "execution_count": 418,
   "id": "76cb5db3-8d4a-4667-b04f-dee3fab3a913",
   "metadata": {},
   "outputs": [
    {
     "data": {
      "text/plain": [
       "8614"
      ]
     },
     "execution_count": 418,
     "metadata": {},
     "output_type": "execute_result"
    }
   ],
   "source": [
    "c+u"
   ]
  },
  {
   "cell_type": "code",
   "execution_count": null,
   "id": "a07fe303-73e5-4cd3-925c-f0e3da4ee82e",
   "metadata": {},
   "outputs": [],
   "source": [
    "#19592 too low"
   ]
  }
 ],
 "metadata": {
  "kernelspec": {
   "display_name": "anaconda-panel-2023.05-py310",
   "language": "python",
   "name": "conda-env-anaconda-panel-2023.05-py310-py"
  },
  "language_info": {
   "codemirror_mode": {
    "name": "ipython",
    "version": 3
   },
   "file_extension": ".py",
   "mimetype": "text/x-python",
   "name": "python",
   "nbconvert_exporter": "python",
   "pygments_lexer": "ipython3",
   "version": "3.11.5"
  }
 },
 "nbformat": 4,
 "nbformat_minor": 5
}
