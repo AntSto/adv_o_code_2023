{
 "cells": [
  {
   "cell_type": "code",
   "execution_count": 98,
   "metadata": {},
   "outputs": [
    {
     "data": {
      "text/plain": [
       "['O....#....\\n',\n",
       " 'O.OO#....#\\n',\n",
       " '.....##...\\n',\n",
       " 'OO.#O....O\\n',\n",
       " '.O.....O#.\\n',\n",
       " 'O.#..O.#.#\\n',\n",
       " '..O..#O..O\\n',\n",
       " '.......O..\\n',\n",
       " '#....###..\\n',\n",
       " '#OO..#....']"
      ]
     },
     "execution_count": 98,
     "metadata": {},
     "output_type": "execute_result"
    }
   ],
   "source": [
    "with open(r'C:\\Users\\SA012547\\Documents\\advent_of_code_2023\\day14_ex.txt') as f:\n",
    "    rocks = f.readlines()\n",
    "    \n",
    "rocks"
   ]
  },
  {
   "cell_type": "code",
   "execution_count": 94,
   "metadata": {
    "scrolled": true
   },
   "outputs": [],
   "source": [
    "rocks = [''.join(x) for x in zip(*(rocks))]\n",
    "# rocks"
   ]
  },
  {
   "cell_type": "code",
   "execution_count": 95,
   "metadata": {},
   "outputs": [],
   "source": [
    "import re\n",
    "for line in range(len(rocks)):\n",
    "    while re.search(r'\\.O', rocks[line]):\n",
    "        rocks[line]=re.sub(r'\\.O', 'O.', rocks[line])\n",
    "#     print(rocks[line])"
   ]
  },
  {
   "cell_type": "code",
   "execution_count": 96,
   "metadata": {},
   "outputs": [],
   "source": [
    "rocks = [''.join(x) for x in zip(*(rocks))]\n",
    "# rocks"
   ]
  },
  {
   "cell_type": "code",
   "execution_count": 97,
   "metadata": {},
   "outputs": [
    {
     "data": {
      "text/plain": [
       "113424"
      ]
     },
     "execution_count": 97,
     "metadata": {},
     "output_type": "execute_result"
    }
   ],
   "source": [
    "load = 0\n",
    "nb_line=len(rocks)\n",
    "for line in range(len(rocks)):\n",
    "    for char in rocks[line]:\n",
    "        if char=='O':\n",
    "            load+=nb_line-line\n",
    "#         print(rocks[line], char, load)\n",
    "load    #113424"
   ]
  },
  {
   "cell_type": "code",
   "execution_count": null,
   "metadata": {},
   "outputs": [],
   "source": []
  }
 ],
 "metadata": {
  "kernelspec": {
   "display_name": "python310",
   "language": "python",
   "name": "python310"
  },
  "language_info": {
   "codemirror_mode": {
    "name": "ipython",
    "version": 3
   },
   "file_extension": ".py",
   "mimetype": "text/x-python",
   "name": "python",
   "nbconvert_exporter": "python",
   "pygments_lexer": "ipython3",
   "version": "3.10.8"
  }
 },
 "nbformat": 4,
 "nbformat_minor": 4
}
