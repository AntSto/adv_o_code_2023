{
 "cells": [
  {
   "cell_type": "code",
   "execution_count": 121,
   "metadata": {},
   "outputs": [],
   "source": [
    "import pandas as pd\n",
    "df = pd.read_csv(\n",
    "            r'C:\\Users\\SA012547\\Documents\\advent_of_code_2023\\day8.txt',sep=':', encoding='latin-1', header=None) #['nb_game', 'liste_cube'])\n",
    "\n",
    "df.columns=['info']\n",
    "instructions = df['info'].iloc[0]"
   ]
  },
  {
   "cell_type": "code",
   "execution_count": 122,
   "metadata": {},
   "outputs": [
    {
     "data": {
      "text/html": [
       "<div>\n",
       "<style scoped>\n",
       "    .dataframe tbody tr th:only-of-type {\n",
       "        vertical-align: middle;\n",
       "    }\n",
       "\n",
       "    .dataframe tbody tr th {\n",
       "        vertical-align: top;\n",
       "    }\n",
       "\n",
       "    .dataframe thead th {\n",
       "        text-align: right;\n",
       "    }\n",
       "</style>\n",
       "<table border=\"1\" class=\"dataframe\">\n",
       "  <thead>\n",
       "    <tr style=\"text-align: right;\">\n",
       "      <th></th>\n",
       "      <th>info</th>\n",
       "      <th>inst</th>\n",
       "      <th>L</th>\n",
       "      <th>R</th>\n",
       "    </tr>\n",
       "  </thead>\n",
       "  <tbody>\n",
       "    <tr>\n",
       "      <th>0</th>\n",
       "      <td>CGM</td>\n",
       "      <td>SFJ,BVH</td>\n",
       "      <td>SFJ</td>\n",
       "      <td>BVH</td>\n",
       "    </tr>\n",
       "    <tr>\n",
       "      <th>1</th>\n",
       "      <td>HRM</td>\n",
       "      <td>PBG,QHK</td>\n",
       "      <td>PBG</td>\n",
       "      <td>QHK</td>\n",
       "    </tr>\n",
       "    <tr>\n",
       "      <th>2</th>\n",
       "      <td>BJR</td>\n",
       "      <td>JJM,BPB</td>\n",
       "      <td>JJM</td>\n",
       "      <td>BPB</td>\n",
       "    </tr>\n",
       "  </tbody>\n",
       "</table>\n",
       "</div>"
      ],
      "text/plain": [
       "  info     inst    L    R\n",
       "0  CGM  SFJ,BVH  SFJ  BVH\n",
       "1  HRM  PBG,QHK  PBG  QHK\n",
       "2  BJR  JJM,BPB  JJM  BPB"
      ]
     },
     "execution_count": 122,
     "metadata": {},
     "output_type": "execute_result"
    }
   ],
   "source": [
    "df=df.tail(-1).reset_index(drop=True)\n",
    "df[['info', 'inst']] = df['info'].str.split('=', n=1, expand=True)\n",
    "df['info']=df['info'].str.strip()\n",
    "df['inst']=df['inst'].str.replace('\\(|\\)| ', '', regex=True)\n",
    "df[['L', 'R']] = df['inst'].str.split(',', n=1, expand=True)\n",
    "df.head(3)"
   ]
  },
  {
   "cell_type": "code",
   "execution_count": 123,
   "metadata": {},
   "outputs": [
    {
     "name": "stdout",
     "output_type": "stream",
     "text": [
      "destination 16531\n",
      "16531\n"
     ]
    }
   ],
   "source": [
    "i =0\n",
    "step=0\n",
    "spot = 'AAA'\n",
    "while i <len(instructions):\n",
    "    if instructions[i]=='L':\n",
    "        spot = df[df['info'] == spot]['L'].values[0]\n",
    "        step+=1\n",
    "    elif instructions[i]=='R':\n",
    "        spot = df[df['info'] == spot]['R'].values[0]\n",
    "        step+=1\n",
    "    if spot == 'ZZZ':\n",
    "#     if spot.endswith('Z'):\n",
    "        print('destination', step)\n",
    "        break\n",
    "    if spot != 'ZZZ' and i == len(instructions)-1:\n",
    "        i=-1\n",
    "    i+=1\n",
    "print(step)"
   ]
  },
  {
   "cell_type": "code",
   "execution_count": 124,
   "metadata": {},
   "outputs": [
    {
     "name": "stdout",
     "output_type": "stream",
     "text": [
      "LLRLRRRLLRRRLRRLRRLRLRRRLRRRLRLLRLRRLRRLRLLRRLRRRLRRLRLRLRLRRRLRRLRLLLRRLRRRLLLRLRRRLRRRLLRRLRRRLRLRRRLLLRRLLRRLRRLLLRRRLRRRLRRRLRRLLRLRLRLRRRLRLRLRRLRRLRLRRRLRRLRRRLRRRLLLRLRRLRRLRLLRRLLRRLRRLLRLRRLRRLRLRLLLRLLRRLRRLRRRLLRRLLRRRLRRLRRRLRRRLLRRRLRRRLLRRRLRLRLLRRLRLRLRRRR 271\n"
     ]
    },
    {
     "data": {
      "text/html": [
       "<div>\n",
       "<style scoped>\n",
       "    .dataframe tbody tr th:only-of-type {\n",
       "        vertical-align: middle;\n",
       "    }\n",
       "\n",
       "    .dataframe tbody tr th {\n",
       "        vertical-align: top;\n",
       "    }\n",
       "\n",
       "    .dataframe thead th {\n",
       "        text-align: right;\n",
       "    }\n",
       "</style>\n",
       "<table border=\"1\" class=\"dataframe\">\n",
       "  <thead>\n",
       "    <tr style=\"text-align: right;\">\n",
       "      <th></th>\n",
       "      <th>info</th>\n",
       "      <th>inst</th>\n",
       "      <th>L</th>\n",
       "      <th>R</th>\n",
       "    </tr>\n",
       "  </thead>\n",
       "  <tbody>\n",
       "    <tr>\n",
       "      <th>0</th>\n",
       "      <td>CGM</td>\n",
       "      <td>SFJ,BVH</td>\n",
       "      <td>SFJ</td>\n",
       "      <td>BVH</td>\n",
       "    </tr>\n",
       "    <tr>\n",
       "      <th>1</th>\n",
       "      <td>HRM</td>\n",
       "      <td>PBG,QHK</td>\n",
       "      <td>PBG</td>\n",
       "      <td>QHK</td>\n",
       "    </tr>\n",
       "    <tr>\n",
       "      <th>2</th>\n",
       "      <td>BJR</td>\n",
       "      <td>JJM,BPB</td>\n",
       "      <td>JJM</td>\n",
       "      <td>BPB</td>\n",
       "    </tr>\n",
       "    <tr>\n",
       "      <th>3</th>\n",
       "      <td>JTG</td>\n",
       "      <td>RMK,GCR</td>\n",
       "      <td>RMK</td>\n",
       "      <td>GCR</td>\n",
       "    </tr>\n",
       "    <tr>\n",
       "      <th>4</th>\n",
       "      <td>NSG</td>\n",
       "      <td>QLT,LTH</td>\n",
       "      <td>QLT</td>\n",
       "      <td>LTH</td>\n",
       "    </tr>\n",
       "    <tr>\n",
       "      <th>...</th>\n",
       "      <td>...</td>\n",
       "      <td>...</td>\n",
       "      <td>...</td>\n",
       "      <td>...</td>\n",
       "    </tr>\n",
       "    <tr>\n",
       "      <th>809</th>\n",
       "      <td>HQQ</td>\n",
       "      <td>LMK,CCH</td>\n",
       "      <td>LMK</td>\n",
       "      <td>CCH</td>\n",
       "    </tr>\n",
       "    <tr>\n",
       "      <th>810</th>\n",
       "      <td>XKS</td>\n",
       "      <td>HPD,BLM</td>\n",
       "      <td>HPD</td>\n",
       "      <td>BLM</td>\n",
       "    </tr>\n",
       "    <tr>\n",
       "      <th>811</th>\n",
       "      <td>BGK</td>\n",
       "      <td>SMV,LNS</td>\n",
       "      <td>SMV</td>\n",
       "      <td>LNS</td>\n",
       "    </tr>\n",
       "    <tr>\n",
       "      <th>812</th>\n",
       "      <td>MBM</td>\n",
       "      <td>LRM,PFD</td>\n",
       "      <td>LRM</td>\n",
       "      <td>PFD</td>\n",
       "    </tr>\n",
       "    <tr>\n",
       "      <th>813</th>\n",
       "      <td>MCT</td>\n",
       "      <td>XCM,PJG</td>\n",
       "      <td>XCM</td>\n",
       "      <td>PJG</td>\n",
       "    </tr>\n",
       "  </tbody>\n",
       "</table>\n",
       "<p>814 rows × 4 columns</p>\n",
       "</div>"
      ],
      "text/plain": [
       "    info     inst    L    R\n",
       "0    CGM  SFJ,BVH  SFJ  BVH\n",
       "1    HRM  PBG,QHK  PBG  QHK\n",
       "2    BJR  JJM,BPB  JJM  BPB\n",
       "3    JTG  RMK,GCR  RMK  GCR\n",
       "4    NSG  QLT,LTH  QLT  LTH\n",
       "..   ...      ...  ...  ...\n",
       "809  HQQ  LMK,CCH  LMK  CCH\n",
       "810  XKS  HPD,BLM  HPD  BLM\n",
       "811  BGK  SMV,LNS  SMV  LNS\n",
       "812  MBM  LRM,PFD  LRM  PFD\n",
       "813  MCT  XCM,PJG  XCM  PJG\n",
       "\n",
       "[814 rows x 4 columns]"
      ]
     },
     "execution_count": 124,
     "metadata": {},
     "output_type": "execute_result"
    }
   ],
   "source": [
    "import pandas as pd\n",
    "df = pd.read_csv(\n",
    "            r'C:\\Users\\SA012547\\Documents\\advent_of_code_2023\\day8.txt',sep=':', encoding='latin-1', header=None) #['nb_game', 'liste_cube'])\n",
    "\n",
    "df.columns=['info']\n",
    "instructions = df['info'].iloc[0]\n",
    "print(instructions, len(instructions))\n",
    "df=df.tail(-1).reset_index(drop=True)\n",
    "df[['info', 'inst']] = df['info'].str.split('=', n=1, expand=True)\n",
    "df['info']=df['info'].str.strip()\n",
    "df['inst']=df['inst'].str.replace('\\(|\\)| ', '', regex=True)\n",
    "df[['L', 'R']] = df['inst'].str.split(',', n=1, expand=True)\n",
    "df"
   ]
  },
  {
   "cell_type": "code",
   "execution_count": 125,
   "metadata": {},
   "outputs": [
    {
     "data": {
      "text/plain": [
       "['MLA', 'BQA', 'MJA', 'AAA', 'TGA', 'BJA']"
      ]
     },
     "execution_count": 125,
     "metadata": {},
     "output_type": "execute_result"
    }
   ],
   "source": [
    "# get list of starting positions\n",
    "start = df[df['info'].str.endswith('A')]\n",
    "start = start['info'].tolist()\n",
    "start"
   ]
  },
  {
   "cell_type": "code",
   "execution_count": 126,
   "metadata": {},
   "outputs": [
    {
     "name": "stdout",
     "output_type": "stream",
     "text": [
      "{'MLA': [], 'BQA': [], 'MJA': [], 'AAA': [], 'TGA': [], 'BJA': []}\n",
      "Z  14363 1 BJA XQD TMZ\n",
      "Z  16531 1 AAA PTJ ZZZ\n",
      "Z  18157 1 BQA RCH BDZ\n",
      "Z  19241 1 MLA SJH KPZ\n",
      "Z  19783 1 MJA KVM GNZ\n",
      "Z  21409 1 TGA PMB RFZ\n",
      "{'MLA': 19241, 'BQA': 18157, 'MJA': 19783, 'AAA': 16531, 'TGA': 21409, 'BJA': 14363}\n",
      "{'MLA': [], 'BQA': [], 'MJA': [], 'AAA': [], 'TGA': [], 'BJA': []}\n"
     ]
    }
   ],
   "source": [
    "\n",
    "# start_list = ['11A', '22A']  # for ex\n",
    "start_list=start\n",
    "# start_list= ['MLA']\n",
    "# nb_step = dict.fromkeys(start_list,  [])\n",
    "nb_step = {key: [] for key in start_list}\n",
    "print(nb_step)\n",
    "current_step={key: 0 for key in start_list}\n",
    "current_place={key: [key] for key in start}\n",
    "# current_place={'11A':['11A'], '22A':['22A']}\n",
    "min_step={key: 0 for key in start_list}\n",
    "# print(current_step, current_place)\n",
    "# for sp in start_list:\n",
    "spot=0\n",
    "i = 0\n",
    "step=0\n",
    "inst = instructions\n",
    "nb_z=0\n",
    "total_step = 0\n",
    "while i <len(inst):\n",
    "    if (all(value > 0 for value in current_step.values())):\n",
    "        print(current_step)\n",
    "        break\n",
    "    if nb_z == len(start):\n",
    "        print('fini!',total_step, nb_z, ' Z')\n",
    "        print(nb_step[place], 'current_step', current_step[place])\n",
    "        break\n",
    "    total_step +=1\n",
    "    nb_z=0\n",
    "    for place in current_place:\n",
    "#         print(place)\n",
    "        if current_step[place] !=0:\n",
    "#             print(current_step[place])\n",
    "#             print('break')\n",
    "            next\n",
    "#         sp=current_place[place][len(current_place[place])-1]\n",
    "        sp=current_place[place][-1]\n",
    "        if inst[i]=='L':\n",
    "#             current_step[place]+=1\n",
    "            spot = df[df['info'] == sp]['L'].values[0]\n",
    "            current_place[place].pop(0)\n",
    "            current_place[place].append(spot)\n",
    "        elif inst[i]=='R':\n",
    "#             current_step[place]+=1\n",
    "            spot = df[df['info'] == sp]['R'].values[0]\n",
    "            current_place[place].pop(0)\n",
    "            current_place[place].append(spot)\n",
    "            \n",
    "        if spot.endswith('Z'):\n",
    "#             nb_step[place].append(current_step[place])\n",
    "            nb_z +=1\n",
    "            print('Z ',total_step, nb_z, place, df[df['info'] == sp]['L'].values[0], df[df['info'] == sp]['R'].values[0])\n",
    "            if current_step[place] ==0:\n",
    "                current_step[place]=total_step\n",
    "#         if nb_z == len(start):\n",
    "#             print('fini!', nb_z, ' Z')\n",
    "#             print(nb_step[place], 'current_step', current_step[place])\n",
    "#             break\n",
    "        if (i == len(inst)-1): \n",
    "            i=-1\n",
    "        \n",
    "    i+=1\n",
    "print(nb_step)"
   ]
  },
  {
   "cell_type": "code",
   "execution_count": 127,
   "metadata": {},
   "outputs": [
    {
     "data": {
      "text/plain": [
       "[19241, 18157, 19783, 16531, 21409, 14363]"
      ]
     },
     "execution_count": 127,
     "metadata": {},
     "output_type": "execute_result"
    }
   ],
   "source": [
    "min_path = 1\n",
    "min_path = [x for x in current_step.values()]\n",
    "min_path\n",
    "# [x*y for x, y in zip(min_path, min_path[1:])]"
   ]
  },
  {
   "cell_type": "code",
   "execution_count": 128,
   "metadata": {},
   "outputs": [
    {
     "data": {
      "text/plain": [
       "24035773251517"
      ]
     },
     "execution_count": 128,
     "metadata": {},
     "output_type": "execute_result"
    }
   ],
   "source": [
    "#lcm = least common multiplier\n",
    "\n",
    "from math import lcm\n",
    "lcm(19241, 18157, 19783, 16531, 21409, 14363)\n"
   ]
  },
  {
   "cell_type": "code",
   "execution_count": null,
   "metadata": {},
   "outputs": [],
   "source": []
  }
 ],
 "metadata": {
  "kernelspec": {
   "display_name": "python310",
   "language": "python",
   "name": "python310"
  },
  "language_info": {
   "codemirror_mode": {
    "name": "ipython",
    "version": 3
   },
   "file_extension": ".py",
   "mimetype": "text/x-python",
   "name": "python",
   "nbconvert_exporter": "python",
   "pygments_lexer": "ipython3",
   "version": "3.10.8"
  }
 },
 "nbformat": 4,
 "nbformat_minor": 4
}
