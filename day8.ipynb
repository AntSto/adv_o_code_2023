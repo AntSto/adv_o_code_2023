{
 "cells": [
  {
   "cell_type": "code",
   "execution_count": 1,
   "metadata": {},
   "outputs": [],
   "source": [
    "import pandas as pd\n",
    "df = pd.read_csv(\n",
    "            r'day8_ex.txt',sep=':', encoding='latin-1', header=None) #['nb_game', 'liste_cube'])\n",
    "\n",
    "df.columns=['info']\n",
    "instructions = df['info'].iloc[0]"
   ]
  },
  {
   "cell_type": "code",
   "execution_count": 3,
   "metadata": {},
   "outputs": [
    {
     "data": {
      "text/html": [
       "<div>\n",
       "<style scoped>\n",
       "    .dataframe tbody tr th:only-of-type {\n",
       "        vertical-align: middle;\n",
       "    }\n",
       "\n",
       "    .dataframe tbody tr th {\n",
       "        vertical-align: top;\n",
       "    }\n",
       "\n",
       "    .dataframe thead th {\n",
       "        text-align: right;\n",
       "    }\n",
       "</style>\n",
       "<table border=\"1\" class=\"dataframe\">\n",
       "  <thead>\n",
       "    <tr style=\"text-align: right;\">\n",
       "      <th></th>\n",
       "      <th>info</th>\n",
       "      <th>inst</th>\n",
       "      <th>L</th>\n",
       "      <th>R</th>\n",
       "    </tr>\n",
       "  </thead>\n",
       "  <tbody>\n",
       "    <tr>\n",
       "      <th>0</th>\n",
       "      <td>AAA</td>\n",
       "      <td>BBB,BBB</td>\n",
       "      <td>BBB</td>\n",
       "      <td>BBB</td>\n",
       "    </tr>\n",
       "    <tr>\n",
       "      <th>1</th>\n",
       "      <td>BBB</td>\n",
       "      <td>AAA,ZZZ</td>\n",
       "      <td>AAA</td>\n",
       "      <td>ZZZ</td>\n",
       "    </tr>\n",
       "    <tr>\n",
       "      <th>2</th>\n",
       "      <td>ZZZ</td>\n",
       "      <td>ZZZ,ZZZ</td>\n",
       "      <td>ZZZ</td>\n",
       "      <td>ZZZ</td>\n",
       "    </tr>\n",
       "  </tbody>\n",
       "</table>\n",
       "</div>"
      ],
      "text/plain": [
       "  info     inst    L    R\n",
       "0  AAA  BBB,BBB  BBB  BBB\n",
       "1  BBB  AAA,ZZZ  AAA  ZZZ\n",
       "2  ZZZ  ZZZ,ZZZ  ZZZ  ZZZ"
      ]
     },
     "execution_count": 3,
     "metadata": {},
     "output_type": "execute_result"
    }
   ],
   "source": [
    "df=df.tail(-1).reset_index(drop=True)\n",
    "df[['info', 'inst']] = df['info'].str.split('=', n=1, expand=True)\n",
    "df['info']=df['info'].str.strip()\n",
    "df['inst']=df['inst'].str.replace('\\(|\\)| ', '', regex=True)\n",
    "df[['L', 'R']] = df['inst'].str.split(',', n=1, expand=True)\n",
    "df.head(3)"
   ]
  },
  {
   "cell_type": "code",
   "execution_count": 5,
   "metadata": {},
   "outputs": [
    {
     "name": "stdout",
     "output_type": "stream",
     "text": [
      "destination 6\n",
      "6\n"
     ]
    }
   ],
   "source": [
    "i =0\n",
    "step=0\n",
    "spot = 'AAA'\n",
    "while i <len(instructions):\n",
    "    if instructions[i]=='L':\n",
    "        spot = df[df['info'] == spot]['L'].values[0]\n",
    "        step+=1\n",
    "    elif instructions[i]=='R':\n",
    "        spot = df[df['info'] == spot]['R'].values[0]\n",
    "        step+=1\n",
    "    if spot == 'ZZZ':\n",
    "#     if spot.endswith('Z'):\n",
    "        print('destination', step)\n",
    "        break\n",
    "    if spot != 'ZZZ' and i == len(instructions)-1:\n",
    "        i=-1\n",
    "    i+=1\n",
    "print(step)"
   ]
  },
  {
   "cell_type": "code",
   "execution_count": 19,
   "metadata": {},
   "outputs": [
    {
     "name": "stdout",
     "output_type": "stream",
     "text": [
      "LLRLRRRLLRRRLRRLRRLRLRRRLRRRLRLLRLRRLRRLRLLRRLRRRLRRLRLRLRLRRRLRRLRLLLRRLRRRLLLRLRRRLRRRLLRRLRRRLRLRRRLLLRRLLRRLRRLLLRRRLRRRLRRRLRRLLRLRLRLRRRLRLRLRRLRRLRLRRRLRRLRRRLRRRLLLRLRRLRRLRLLRRLLRRLRRLLRLRRLRRLRLRLLLRLLRRLRRLRRRLLRRLLRRRLRRLRRRLRRRLLRRRLRRRLLRRRLRLRLLRRLRLRLRRRR 271\n"
     ]
    },
    {
     "data": {
      "text/html": [
       "<div>\n",
       "<style scoped>\n",
       "    .dataframe tbody tr th:only-of-type {\n",
       "        vertical-align: middle;\n",
       "    }\n",
       "\n",
       "    .dataframe tbody tr th {\n",
       "        vertical-align: top;\n",
       "    }\n",
       "\n",
       "    .dataframe thead th {\n",
       "        text-align: right;\n",
       "    }\n",
       "</style>\n",
       "<table border=\"1\" class=\"dataframe\">\n",
       "  <thead>\n",
       "    <tr style=\"text-align: right;\">\n",
       "      <th></th>\n",
       "      <th>info</th>\n",
       "      <th>inst</th>\n",
       "      <th>L</th>\n",
       "      <th>R</th>\n",
       "    </tr>\n",
       "  </thead>\n",
       "  <tbody>\n",
       "    <tr>\n",
       "      <th>0</th>\n",
       "      <td>CGM</td>\n",
       "      <td>SFJ,BVH</td>\n",
       "      <td>SFJ</td>\n",
       "      <td>BVH</td>\n",
       "    </tr>\n",
       "    <tr>\n",
       "      <th>1</th>\n",
       "      <td>HRM</td>\n",
       "      <td>PBG,QHK</td>\n",
       "      <td>PBG</td>\n",
       "      <td>QHK</td>\n",
       "    </tr>\n",
       "    <tr>\n",
       "      <th>2</th>\n",
       "      <td>BJR</td>\n",
       "      <td>JJM,BPB</td>\n",
       "      <td>JJM</td>\n",
       "      <td>BPB</td>\n",
       "    </tr>\n",
       "    <tr>\n",
       "      <th>3</th>\n",
       "      <td>JTG</td>\n",
       "      <td>RMK,GCR</td>\n",
       "      <td>RMK</td>\n",
       "      <td>GCR</td>\n",
       "    </tr>\n",
       "    <tr>\n",
       "      <th>4</th>\n",
       "      <td>NSG</td>\n",
       "      <td>QLT,LTH</td>\n",
       "      <td>QLT</td>\n",
       "      <td>LTH</td>\n",
       "    </tr>\n",
       "    <tr>\n",
       "      <th>...</th>\n",
       "      <td>...</td>\n",
       "      <td>...</td>\n",
       "      <td>...</td>\n",
       "      <td>...</td>\n",
       "    </tr>\n",
       "    <tr>\n",
       "      <th>809</th>\n",
       "      <td>HQQ</td>\n",
       "      <td>LMK,CCH</td>\n",
       "      <td>LMK</td>\n",
       "      <td>CCH</td>\n",
       "    </tr>\n",
       "    <tr>\n",
       "      <th>810</th>\n",
       "      <td>XKS</td>\n",
       "      <td>HPD,BLM</td>\n",
       "      <td>HPD</td>\n",
       "      <td>BLM</td>\n",
       "    </tr>\n",
       "    <tr>\n",
       "      <th>811</th>\n",
       "      <td>BGK</td>\n",
       "      <td>SMV,LNS</td>\n",
       "      <td>SMV</td>\n",
       "      <td>LNS</td>\n",
       "    </tr>\n",
       "    <tr>\n",
       "      <th>812</th>\n",
       "      <td>MBM</td>\n",
       "      <td>LRM,PFD</td>\n",
       "      <td>LRM</td>\n",
       "      <td>PFD</td>\n",
       "    </tr>\n",
       "    <tr>\n",
       "      <th>813</th>\n",
       "      <td>MCT</td>\n",
       "      <td>XCM,PJG</td>\n",
       "      <td>XCM</td>\n",
       "      <td>PJG</td>\n",
       "    </tr>\n",
       "  </tbody>\n",
       "</table>\n",
       "<p>814 rows × 4 columns</p>\n",
       "</div>"
      ],
      "text/plain": [
       "    info     inst    L    R\n",
       "0    CGM  SFJ,BVH  SFJ  BVH\n",
       "1    HRM  PBG,QHK  PBG  QHK\n",
       "2    BJR  JJM,BPB  JJM  BPB\n",
       "3    JTG  RMK,GCR  RMK  GCR\n",
       "4    NSG  QLT,LTH  QLT  LTH\n",
       "..   ...      ...  ...  ...\n",
       "809  HQQ  LMK,CCH  LMK  CCH\n",
       "810  XKS  HPD,BLM  HPD  BLM\n",
       "811  BGK  SMV,LNS  SMV  LNS\n",
       "812  MBM  LRM,PFD  LRM  PFD\n",
       "813  MCT  XCM,PJG  XCM  PJG\n",
       "\n",
       "[814 rows x 4 columns]"
      ]
     },
     "execution_count": 19,
     "metadata": {},
     "output_type": "execute_result"
    }
   ],
   "source": [
    "import pandas as pd\n",
    "df = pd.read_csv(\n",
    "            r'day8.txt',sep=':', encoding='latin-1', header=None) #['nb_game', 'liste_cube'])\n",
    "\n",
    "df.columns=['info']\n",
    "instructions = df['info'].iloc[0]\n",
    "print(instructions, len(instructions))\n",
    "df=df.tail(-1).reset_index(drop=True)\n",
    "df[['info', 'inst']] = df['info'].str.split('=', n=1, expand=True)\n",
    "df['info']=df['info'].str.strip()\n",
    "df['inst']=df['inst'].str.replace('\\(|\\)| ', '', regex=True)\n",
    "df[['L', 'R']] = df['inst'].str.split(',', n=1, expand=True)\n",
    "df"
   ]
  },
  {
   "cell_type": "code",
   "execution_count": 21,
   "metadata": {},
   "outputs": [
    {
     "data": {
      "text/plain": [
       "['MLA', 'BQA', 'MJA', 'AAA', 'TGA', 'BJA']"
      ]
     },
     "execution_count": 21,
     "metadata": {},
     "output_type": "execute_result"
    }
   ],
   "source": [
    "# get list of starting positions\n",
    "start = df[df['info'].str.endswith('A')]\n",
    "start = start['info'].tolist()\n",
    "start "
   ]
  },
  {
   "cell_type": "code",
   "execution_count": 13,
   "metadata": {},
   "outputs": [
    {
     "name": "stdout",
     "output_type": "stream",
     "text": [
      "{'11A': [], '22A': []}\n",
      "{'11A': [2, 4, 6, 8, 10, 12, 14, 16, 18, 20, 22, 24, 26, 28, 30, 32, 34, 36, 38, 40, 42, 44, 46, 48, 50, 52, 54, 56, 58, 60, 62, 64, 66, 68, 70, 72, 74, 76, 78, 80, 82, 84, 86, 88, 90, 92, 94, 96, 98, 100, 102, 104, 106, 108, 110, 112, 114, 116, 118, 120, 122, 124, 126, 128, 130, 132, 134, 136, 138, 140, 142, 144, 146, 148, 150, 152, 154, 156, 158, 160, 162, 164, 166, 168, 170, 172, 174, 176, 178, 180, 182, 184, 186, 188, 190, 192, 194, 196, 198, 200, 202, 204, 206, 208, 210, 212, 214, 216, 218, 220, 222, 224, 226, 228, 230, 232, 234, 236, 238, 240, 242, 244, 246, 248, 250, 252, 254, 256, 258, 260, 262, 264, 266, 268, 270, 272, 274, 276, 278, 280, 282, 284, 286, 288, 290, 292, 294, 296, 298, 300, 302, 304, 306, 308, 310, 312, 314, 316, 318, 320, 322, 324, 326, 328, 330, 332, 334, 336, 338, 340, 342, 344, 346, 348, 350, 352, 354, 356, 358, 360, 362, 364, 366, 368, 370, 372, 374, 376, 378, 380, 382, 384, 386, 388, 390, 392, 394, 396, 398, 400, 402, 404, 406, 408, 410, 412, 414, 416, 418, 420, 422, 424, 426, 428, 430, 432, 434, 436, 438, 440, 442, 444, 446, 448, 450, 452, 454, 456, 458, 460, 462, 464, 466, 468, 470, 472, 474, 476, 478, 480, 482, 484, 486, 488, 490, 492, 494, 496, 498, 500, 502, 504, 506, 508, 510, 512, 514, 516, 518, 520, 522, 524, 526, 528, 530, 532, 534, 536, 538, 540, 542, 544, 546, 548, 550, 552, 554, 556, 558, 560, 562, 564, 566, 568, 570, 572, 574, 576, 578, 580, 582, 584, 586, 588, 590, 592, 594, 596, 598, 600, 602, 604, 606, 608, 610, 612, 614, 616, 618, 620, 622, 624, 626, 628, 630, 632, 634, 636, 638, 640, 642, 644, 646, 648, 650, 652, 654, 656, 658, 660, 662, 664, 666, 668, 670, 672, 674, 676, 678, 680, 682, 684, 686, 688, 690, 692, 694, 696, 698, 700, 702, 704, 706, 708, 710, 712, 714, 716, 718, 720, 722, 724, 726, 728, 730, 732, 734, 736, 738, 740, 742, 744, 746, 748, 750, 752, 754, 756, 758, 760, 762, 764, 766, 768, 770, 772, 774, 776, 778, 780, 782, 784, 786, 788, 790, 792, 794, 796, 798, 800, 802], '22A': [3, 6, 9, 12, 15, 18, 21, 24, 27, 30, 33, 36, 39, 42, 45, 48, 51, 54, 57, 60, 63, 66, 69, 72, 75, 78, 81, 84, 87, 90, 93, 96, 99, 102, 105, 108, 111, 114, 117, 120, 123, 126, 129, 132, 135, 138, 141, 144, 147, 150, 153, 156, 159, 162, 165, 168, 171, 174, 177, 180, 183, 186, 189, 192, 195, 198, 201, 204, 207, 210, 213, 216, 219, 222, 225, 228, 231, 234, 237, 240, 243, 246, 249, 252, 255, 258, 261, 264, 267, 270, 273, 276, 279, 282, 285, 288, 291, 294, 297, 300, 303, 306, 309, 312, 315, 318, 321, 324, 327, 330, 333, 336, 339, 342, 345, 348, 351, 354, 357, 360, 363, 366, 369, 372, 375, 378, 381, 384, 387, 390, 393, 396, 399, 402, 405, 408, 411, 414, 417, 420, 423, 426, 429, 432, 435, 438, 441, 444, 447, 450, 453, 456, 459, 462, 465, 468, 471, 474, 477, 480, 483, 486, 489, 492, 495, 498, 501, 504, 507, 510, 513, 516, 519, 522, 525, 528, 531, 534, 537, 540, 543, 546, 549, 552, 555, 558, 561, 564, 567, 570, 573, 576, 579, 582, 585, 588, 591, 594, 597, 600, 603, 606, 609, 612, 615, 618, 621, 624, 627, 630, 633, 636, 639, 642, 645, 648, 651, 654, 657, 660, 663, 666, 669, 672, 675, 678, 681, 684, 687, 690, 693, 696, 699, 702, 705, 708, 711, 714, 717, 720, 723, 726, 729, 732, 735, 738, 741, 744, 747, 750, 753, 756, 759, 762, 765, 768, 771, 774, 777, 780, 783, 786, 789, 792, 795, 798, 801, 804, 807, 810, 813, 816, 819, 822, 825, 828, 831, 834, 837, 840, 843, 846, 849, 852, 855, 858, 861, 864, 867, 870, 873, 876, 879, 882, 885, 888, 891, 894, 897, 900, 903, 906, 909, 912, 915, 918, 921, 924, 927, 930, 933, 936, 939, 942, 945, 948, 951, 954, 957, 960, 963, 966, 969, 972, 975, 978, 981, 984, 987, 990, 993, 996, 999, 1002, 1005, 1008, 1011, 1014, 1017, 1020, 1023, 1026, 1029, 1032, 1035, 1038, 1041, 1044, 1047, 1050, 1053, 1056, 1059, 1062, 1065, 1068, 1071, 1074, 1077, 1080, 1083, 1086, 1089, 1092, 1095, 1098, 1101, 1104, 1107, 1110, 1113, 1116, 1119, 1122, 1125, 1128, 1131, 1134, 1137, 1140, 1143, 1146, 1149, 1152, 1155, 1158, 1161, 1164, 1167, 1170, 1173, 1176, 1179, 1182, 1185, 1188, 1191, 1194, 1197, 1200, 1203]}\n"
     ]
    }
   ],
   "source": [
    "\n",
    "# start_list = ['11A', '22A']  # for ex\n",
    "start_list=start\n",
    "# start_list= ['MLA']\n",
    "# nb_step = dict.fromkeys(start_list,  [])\n",
    "nb_step = {key: [] for key in start_list}\n",
    "print(nb_step)\n",
    "\n",
    "for sp in start_list:\n",
    "    spot=sp\n",
    "    i = 0\n",
    "    step=0\n",
    "    inst = instructions\n",
    "    while i <len(inst):\n",
    "        if inst[i]=='L':\n",
    "            spot = df[df['info'] == spot]['L'].values[0]\n",
    "            step+=1\n",
    "        elif inst[i]=='R':\n",
    "            spot = df[df['info'] == spot]['R'].values[0]\n",
    "            step+=1\n",
    "        if spot.endswith('Z'):\n",
    "            nb_step[sp].append(step)\n",
    "            \n",
    "#             print('destination', step, nb_step)\n",
    "#             break\n",
    "        if (i == len(inst)-1): # and (not spot.endswith('Z')):\n",
    "            i=-1\n",
    "        if len(nb_step[sp])>400:\n",
    "            break\n",
    "        i+=1\n",
    "print(nb_step)"
   ]
  },
  {
   "cell_type": "code",
   "execution_count": 25,
   "metadata": {},
   "outputs": [
    {
     "name": "stdout",
     "output_type": "stream",
     "text": [
      "{'MLA': [], 'BQA': [], 'MJA': [], 'AAA': [], 'TGA': [], 'BJA': []}\n",
      "{'MLA': 0, 'BQA': 0, 'MJA': 0, 'AAA': 0, 'TGA': 0, 'BJA': 0} {'MLA': ['MLA'], 'BQA': ['BQA']}\n",
      "Z 1\n",
      "Z 1\n",
      "Z 1\n",
      "Z 1\n",
      "Z 1\n",
      "Z 1\n",
      "Z 1\n",
      "Z 1\n",
      "Z 1\n",
      "Z 1\n",
      "Z 1\n",
      "Z 1\n",
      "Z 1\n",
      "Z 1\n",
      "Z 1\n",
      "Z 1\n",
      "Z 1\n",
      "Z 1\n",
      "Z 1\n",
      "Z 1\n",
      "Z 1\n",
      "Z 1\n",
      "Z 1\n",
      "Z 1\n",
      "Z 1\n",
      "Z 1\n",
      "Z 1\n",
      "Z 1\n",
      "Z 1\n",
      "Z 1\n",
      "Z 1\n",
      "Z 1\n",
      "Z 1\n",
      "Z 1\n",
      "Z 1\n",
      "Z 1\n",
      "Z 1\n",
      "Z 1\n",
      "Z 1\n",
      "Z 1\n",
      "Z 1\n",
      "Z 1\n",
      "Z 1\n",
      "Z 1\n",
      "Z 1\n",
      "Z 1\n",
      "Z 1\n",
      "Z 1\n",
      "Z 1\n",
      "Z 1\n",
      "Z 1\n",
      "Z 1\n",
      "Z 1\n",
      "Z 1\n",
      "Z 1\n",
      "Z 1\n",
      "Z 1\n",
      "Z 1\n",
      "Z 1\n",
      "Z 1\n",
      "Z 1\n",
      "Z 1\n",
      "Z 1\n",
      "Z 1\n",
      "Z 1\n",
      "Z 1\n",
      "Z 1\n",
      "Z 1\n",
      "Z 1\n",
      "Z 1\n",
      "Z 1\n",
      "Z 1\n",
      "Z 1\n",
      "Z 1\n",
      "Z 1\n",
      "Z 1\n",
      "Z 1\n",
      "Z 1\n",
      "Z 1\n",
      "Z 1\n",
      "Z 1\n",
      "Z 1\n",
      "Z 1\n",
      "Z 1\n",
      "Z 1\n",
      "Z 1\n",
      "Z 1\n",
      "Z 1\n",
      "Z 1\n",
      "Z 1\n",
      "Z 1\n",
      "Z 1\n",
      "Z 1\n",
      "Z 1\n",
      "Z 1\n",
      "Z 1\n",
      "Z 1\n",
      "Z 1\n",
      "Z 1\n",
      "Z 1\n",
      "Z 1\n",
      "Z 1\n",
      "Z 1\n",
      "Z 1\n",
      "Z 1\n",
      "Z 1\n",
      "Z 1\n",
      "Z 1\n",
      "Z 1\n",
      "Z 1\n",
      "Z 1\n"
     ]
    },
    {
     "ename": "KeyboardInterrupt",
     "evalue": "",
     "output_type": "error",
     "traceback": [
      "\u001b[0;31m---------------------------------------------------------------------------\u001b[0m",
      "\u001b[0;31mKeyboardInterrupt\u001b[0m                         Traceback (most recent call last)",
      "Cell \u001b[0;32mIn[25], line 37\u001b[0m\n\u001b[1;32m     34\u001b[0m             \u001b[38;5;66;03m# print(current_place)\u001b[39;00m\n\u001b[1;32m     35\u001b[0m         \u001b[38;5;28;01melif\u001b[39;00m inst[i]\u001b[38;5;241m==\u001b[39m\u001b[38;5;124m'\u001b[39m\u001b[38;5;124mR\u001b[39m\u001b[38;5;124m'\u001b[39m:\n\u001b[1;32m     36\u001b[0m \u001b[38;5;66;03m#             current_step[place]+=1\u001b[39;00m\n\u001b[0;32m---> 37\u001b[0m             spot \u001b[38;5;241m=\u001b[39m df[df[\u001b[38;5;124m'\u001b[39m\u001b[38;5;124minfo\u001b[39m\u001b[38;5;124m'\u001b[39m] \u001b[38;5;241m==\u001b[39m sp][\u001b[38;5;124m'\u001b[39m\u001b[38;5;124mR\u001b[39m\u001b[38;5;124m'\u001b[39m]\u001b[38;5;241m.\u001b[39mvalues[\u001b[38;5;241m0\u001b[39m]\n\u001b[1;32m     38\u001b[0m             current_place[place]\u001b[38;5;241m.\u001b[39mpop(\u001b[38;5;241m0\u001b[39m)\n\u001b[1;32m     39\u001b[0m             current_place[place]\u001b[38;5;241m.\u001b[39mappend(spot)\n",
      "File \u001b[0;32m/opt/conda/envs/anaconda-panel-2023.05-py310/lib/python3.11/site-packages/pandas/core/ops/common.py:81\u001b[0m, in \u001b[0;36m_unpack_zerodim_and_defer.<locals>.new_method\u001b[0;34m(self, other)\u001b[0m\n\u001b[1;32m     77\u001b[0m             \u001b[38;5;28;01mreturn\u001b[39;00m \u001b[38;5;28mNotImplemented\u001b[39m\n\u001b[1;32m     79\u001b[0m other \u001b[38;5;241m=\u001b[39m item_from_zerodim(other)\n\u001b[0;32m---> 81\u001b[0m \u001b[38;5;28;01mreturn\u001b[39;00m method(\u001b[38;5;28mself\u001b[39m, other)\n",
      "File \u001b[0;32m/opt/conda/envs/anaconda-panel-2023.05-py310/lib/python3.11/site-packages/pandas/core/arraylike.py:40\u001b[0m, in \u001b[0;36mOpsMixin.__eq__\u001b[0;34m(self, other)\u001b[0m\n\u001b[1;32m     38\u001b[0m \u001b[38;5;129m@unpack_zerodim_and_defer\u001b[39m(\u001b[38;5;124m\"\u001b[39m\u001b[38;5;124m__eq__\u001b[39m\u001b[38;5;124m\"\u001b[39m)\n\u001b[1;32m     39\u001b[0m \u001b[38;5;28;01mdef\u001b[39;00m \u001b[38;5;21m__eq__\u001b[39m(\u001b[38;5;28mself\u001b[39m, other):\n\u001b[0;32m---> 40\u001b[0m     \u001b[38;5;28;01mreturn\u001b[39;00m \u001b[38;5;28mself\u001b[39m\u001b[38;5;241m.\u001b[39m_cmp_method(other, operator\u001b[38;5;241m.\u001b[39meq)\n",
      "File \u001b[0;32m/opt/conda/envs/anaconda-panel-2023.05-py310/lib/python3.11/site-packages/pandas/core/series.py:6098\u001b[0m, in \u001b[0;36mSeries._cmp_method\u001b[0;34m(self, other, op)\u001b[0m\n\u001b[1;32m   6095\u001b[0m \u001b[38;5;28;01mwith\u001b[39;00m np\u001b[38;5;241m.\u001b[39merrstate(\u001b[38;5;28mall\u001b[39m\u001b[38;5;241m=\u001b[39m\u001b[38;5;124m\"\u001b[39m\u001b[38;5;124mignore\u001b[39m\u001b[38;5;124m\"\u001b[39m):\n\u001b[1;32m   6096\u001b[0m     res_values \u001b[38;5;241m=\u001b[39m ops\u001b[38;5;241m.\u001b[39mcomparison_op(lvalues, rvalues, op)\n\u001b[0;32m-> 6098\u001b[0m \u001b[38;5;28;01mreturn\u001b[39;00m \u001b[38;5;28mself\u001b[39m\u001b[38;5;241m.\u001b[39m_construct_result(res_values, name\u001b[38;5;241m=\u001b[39mres_name)\n",
      "File \u001b[0;32m/opt/conda/envs/anaconda-panel-2023.05-py310/lib/python3.11/site-packages/pandas/core/series.py:3105\u001b[0m, in \u001b[0;36mSeries._construct_result\u001b[0;34m(self, result, name)\u001b[0m\n\u001b[1;32m   3102\u001b[0m \u001b[38;5;66;03m# TODO: result should always be ArrayLike, but this fails for some\u001b[39;00m\n\u001b[1;32m   3103\u001b[0m \u001b[38;5;66;03m#  JSONArray tests\u001b[39;00m\n\u001b[1;32m   3104\u001b[0m dtype \u001b[38;5;241m=\u001b[39m \u001b[38;5;28mgetattr\u001b[39m(result, \u001b[38;5;124m\"\u001b[39m\u001b[38;5;124mdtype\u001b[39m\u001b[38;5;124m\"\u001b[39m, \u001b[38;5;28;01mNone\u001b[39;00m)\n\u001b[0;32m-> 3105\u001b[0m out \u001b[38;5;241m=\u001b[39m \u001b[38;5;28mself\u001b[39m\u001b[38;5;241m.\u001b[39m_constructor(result, index\u001b[38;5;241m=\u001b[39m\u001b[38;5;28mself\u001b[39m\u001b[38;5;241m.\u001b[39mindex, dtype\u001b[38;5;241m=\u001b[39mdtype)\n\u001b[1;32m   3106\u001b[0m out \u001b[38;5;241m=\u001b[39m out\u001b[38;5;241m.\u001b[39m__finalize__(\u001b[38;5;28mself\u001b[39m)\n\u001b[1;32m   3108\u001b[0m \u001b[38;5;66;03m# Set the result's name after __finalize__ is called because __finalize__\u001b[39;00m\n\u001b[1;32m   3109\u001b[0m \u001b[38;5;66;03m#  would set it back to self.name\u001b[39;00m\n",
      "File \u001b[0;32m/opt/conda/envs/anaconda-panel-2023.05-py310/lib/python3.11/site-packages/pandas/core/series.py:511\u001b[0m, in \u001b[0;36mSeries.__init__\u001b[0;34m(self, data, index, dtype, name, copy, fastpath)\u001b[0m\n\u001b[1;32m    508\u001b[0m \u001b[38;5;28;01melse\u001b[39;00m:\n\u001b[1;32m    509\u001b[0m     data \u001b[38;5;241m=\u001b[39m sanitize_array(data, index, dtype, copy)\n\u001b[0;32m--> 511\u001b[0m     manager \u001b[38;5;241m=\u001b[39m get_option(\u001b[38;5;124m\"\u001b[39m\u001b[38;5;124mmode.data_manager\u001b[39m\u001b[38;5;124m\"\u001b[39m)\n\u001b[1;32m    512\u001b[0m     \u001b[38;5;28;01mif\u001b[39;00m manager \u001b[38;5;241m==\u001b[39m \u001b[38;5;124m\"\u001b[39m\u001b[38;5;124mblock\u001b[39m\u001b[38;5;124m\"\u001b[39m:\n\u001b[1;32m    513\u001b[0m         data \u001b[38;5;241m=\u001b[39m SingleBlockManager\u001b[38;5;241m.\u001b[39mfrom_array(data, index, refs\u001b[38;5;241m=\u001b[39mrefs)\n",
      "File \u001b[0;32m/opt/conda/envs/anaconda-panel-2023.05-py310/lib/python3.11/site-packages/pandas/_config/config.py:261\u001b[0m, in \u001b[0;36mCallableDynamicDoc.__call__\u001b[0;34m(self, *args, **kwds)\u001b[0m\n\u001b[1;32m    260\u001b[0m \u001b[38;5;28;01mdef\u001b[39;00m \u001b[38;5;21m__call__\u001b[39m(\u001b[38;5;28mself\u001b[39m, \u001b[38;5;241m*\u001b[39margs, \u001b[38;5;241m*\u001b[39m\u001b[38;5;241m*\u001b[39mkwds) \u001b[38;5;241m-\u001b[39m\u001b[38;5;241m>\u001b[39m T:\n\u001b[0;32m--> 261\u001b[0m     \u001b[38;5;28;01mreturn\u001b[39;00m \u001b[38;5;28mself\u001b[39m\u001b[38;5;241m.\u001b[39m\u001b[38;5;18m__func__\u001b[39m(\u001b[38;5;241m*\u001b[39margs, \u001b[38;5;241m*\u001b[39m\u001b[38;5;241m*\u001b[39mkwds)\n",
      "File \u001b[0;32m/opt/conda/envs/anaconda-panel-2023.05-py310/lib/python3.11/site-packages/pandas/_config/config.py:138\u001b[0m, in \u001b[0;36m_get_option\u001b[0;34m(pat, silent)\u001b[0m\n\u001b[1;32m    135\u001b[0m key \u001b[38;5;241m=\u001b[39m _get_single_key(pat, silent)\n\u001b[1;32m    137\u001b[0m \u001b[38;5;66;03m# walk the nested dict\u001b[39;00m\n\u001b[0;32m--> 138\u001b[0m root, k \u001b[38;5;241m=\u001b[39m _get_root(key)\n\u001b[1;32m    139\u001b[0m \u001b[38;5;28;01mreturn\u001b[39;00m root[k]\n",
      "File \u001b[0;32m/opt/conda/envs/anaconda-panel-2023.05-py310/lib/python3.11/site-packages/pandas/_config/config.py:600\u001b[0m, in \u001b[0;36m_get_root\u001b[0;34m(key)\u001b[0m\n\u001b[1;32m    598\u001b[0m cursor \u001b[38;5;241m=\u001b[39m _global_config\n\u001b[1;32m    599\u001b[0m \u001b[38;5;28;01mfor\u001b[39;00m p \u001b[38;5;129;01min\u001b[39;00m path[:\u001b[38;5;241m-\u001b[39m\u001b[38;5;241m1\u001b[39m]:\n\u001b[0;32m--> 600\u001b[0m     cursor \u001b[38;5;241m=\u001b[39m cursor[p]\n\u001b[1;32m    601\u001b[0m \u001b[38;5;28;01mreturn\u001b[39;00m cursor, path[\u001b[38;5;241m-\u001b[39m\u001b[38;5;241m1\u001b[39m]\n",
      "\u001b[0;31mKeyboardInterrupt\u001b[0m: "
     ]
    }
   ],
   "source": [
    "\n",
    "# start_list = ['11A', '22A']  # for ex\n",
    "start_list=start\n",
    "start=['MLA', 'BQA']  #, 'MJA', 'AAA', 'TGA', 'BJA']\n",
    "# start_list= ['MLA']\n",
    "# nb_step = dict.fromkeys(start_list,  [])\n",
    "nb_step = {key: [] for key in start_list}\n",
    "print(nb_step)\n",
    "current_step={key: 0 for key in start_list}\n",
    "current_place={key: [key] for key in start}\n",
    "# current_place={'11A':['11A'], '22A':['22A']}\n",
    "\n",
    "print(current_step, current_place)\n",
    "# for sp in start_list:\n",
    "spot=0\n",
    "i = 0\n",
    "step=0\n",
    "inst = instructions\n",
    "nb_z=0\n",
    "total_step = 0\n",
    "while i <len(inst):\n",
    "    if nb_z == len(start):\n",
    "        print('fini!',total_step, nb_z, ' Z')\n",
    "        print(nb_step[place], 'current_step', current_step[place])\n",
    "        break\n",
    "    total_step +=1\n",
    "    nb_z=0\n",
    "    for place in current_place:\n",
    "        sp=current_place[place][len(current_place[place])-1]\n",
    "        if inst[i]=='L':\n",
    "#             current_step[place]+=1\n",
    "            spot = df[df['info'] == sp]['L'].values[0]\n",
    "            current_place[place].pop(0)\n",
    "            current_place[place].append(spot)\n",
    "            # print(current_place)\n",
    "        elif inst[i]=='R':\n",
    "#             current_step[place]+=1\n",
    "            spot = df[df['info'] == sp]['R'].values[0]\n",
    "            current_place[place].pop(0)\n",
    "            current_place[place].append(spot)\n",
    "            \n",
    "        if spot.endswith('Z'):\n",
    "#             nb_step[place].append(current_step[place])\n",
    "            nb_z +=1\n",
    "            print('Z', nb_z)\n",
    "            \n",
    "#         if nb_z == len(start):\n",
    "#             print('fini!', nb_z, ' Z')\n",
    "#             print(nb_step[place], 'current_step', current_step[place])\n",
    "#             break\n",
    "        if (i == len(inst)-1): \n",
    "            i=-1\n",
    "        \n",
    "    i+=1\n",
    "print(nb_step)"
   ]
  },
  {
   "cell_type": "code",
   "execution_count": 138,
   "metadata": {},
   "outputs": [
    {
     "data": {
      "text/plain": [
       "6"
      ]
     },
     "execution_count": 138,
     "metadata": {},
     "output_type": "execute_result"
    }
   ],
   "source": [
    "all_values = [i for i in nb_step.values()]\n",
    "elements_in_all = set(all_values[0]).intersection(*all_values[1:])\n",
    "min(elements_in_all)"
   ]
  },
  {
   "cell_type": "code",
   "execution_count": 120,
   "metadata": {},
   "outputs": [
    {
     "data": {
      "text/html": [
       "<div>\n",
       "<style scoped>\n",
       "    .dataframe tbody tr th:only-of-type {\n",
       "        vertical-align: middle;\n",
       "    }\n",
       "\n",
       "    .dataframe tbody tr th {\n",
       "        vertical-align: top;\n",
       "    }\n",
       "\n",
       "    .dataframe thead th {\n",
       "        text-align: right;\n",
       "    }\n",
       "</style>\n",
       "<table border=\"1\" class=\"dataframe\">\n",
       "  <thead>\n",
       "    <tr style=\"text-align: right;\">\n",
       "      <th></th>\n",
       "      <th>AAA</th>\n",
       "      <th>TGA</th>\n",
       "      <th>BJA</th>\n",
       "    </tr>\n",
       "  </thead>\n",
       "  <tbody>\n",
       "    <tr>\n",
       "      <th>0</th>\n",
       "      <td>16531</td>\n",
       "      <td>21409</td>\n",
       "      <td>14363</td>\n",
       "    </tr>\n",
       "    <tr>\n",
       "      <th>1</th>\n",
       "      <td>33062</td>\n",
       "      <td>42818</td>\n",
       "      <td>28726</td>\n",
       "    </tr>\n",
       "    <tr>\n",
       "      <th>2</th>\n",
       "      <td>49593</td>\n",
       "      <td>64227</td>\n",
       "      <td>43089</td>\n",
       "    </tr>\n",
       "    <tr>\n",
       "      <th>3</th>\n",
       "      <td>66124</td>\n",
       "      <td>85636</td>\n",
       "      <td>57452</td>\n",
       "    </tr>\n",
       "    <tr>\n",
       "      <th>4</th>\n",
       "      <td>82655</td>\n",
       "      <td>107045</td>\n",
       "      <td>71815</td>\n",
       "    </tr>\n",
       "    <tr>\n",
       "      <th>...</th>\n",
       "      <td>...</td>\n",
       "      <td>...</td>\n",
       "      <td>...</td>\n",
       "    </tr>\n",
       "    <tr>\n",
       "      <th>96</th>\n",
       "      <td>1603507</td>\n",
       "      <td>2076673</td>\n",
       "      <td>1393211</td>\n",
       "    </tr>\n",
       "    <tr>\n",
       "      <th>97</th>\n",
       "      <td>1620038</td>\n",
       "      <td>2098082</td>\n",
       "      <td>1407574</td>\n",
       "    </tr>\n",
       "    <tr>\n",
       "      <th>98</th>\n",
       "      <td>1636569</td>\n",
       "      <td>2119491</td>\n",
       "      <td>1421937</td>\n",
       "    </tr>\n",
       "    <tr>\n",
       "      <th>99</th>\n",
       "      <td>1653100</td>\n",
       "      <td>2140900</td>\n",
       "      <td>1436300</td>\n",
       "    </tr>\n",
       "    <tr>\n",
       "      <th>100</th>\n",
       "      <td>1669631</td>\n",
       "      <td>2162309</td>\n",
       "      <td>1450663</td>\n",
       "    </tr>\n",
       "  </tbody>\n",
       "</table>\n",
       "<p>101 rows × 3 columns</p>\n",
       "</div>"
      ],
      "text/plain": [
       "         AAA      TGA      BJA\n",
       "0      16531    21409    14363\n",
       "1      33062    42818    28726\n",
       "2      49593    64227    43089\n",
       "3      66124    85636    57452\n",
       "4      82655   107045    71815\n",
       "..       ...      ...      ...\n",
       "96   1603507  2076673  1393211\n",
       "97   1620038  2098082  1407574\n",
       "98   1636569  2119491  1421937\n",
       "99   1653100  2140900  1436300\n",
       "100  1669631  2162309  1450663\n",
       "\n",
       "[101 rows x 3 columns]"
      ]
     },
     "execution_count": 120,
     "metadata": {},
     "output_type": "execute_result"
    }
   ],
   "source": [
    "dic_df=pd.DataFrame.from_dict(nb_step)\n",
    "dic_df"
   ]
  },
  {
   "cell_type": "code",
   "execution_count": 124,
   "metadata": {},
   "outputs": [
    {
     "data": {
      "text/plain": [
       "[]"
      ]
     },
     "execution_count": 124,
     "metadata": {},
     "output_type": "execute_result"
    }
   ],
   "source": [
    "list(set.intersection(*[set(col) for col in dic_df.T.values]))"
   ]
  },
  {
   "cell_type": "code",
   "execution_count": 81,
   "metadata": {
    "scrolled": true
   },
   "outputs": [
    {
     "name": "stdout",
     "output_type": "stream",
     "text": [
      "11A [2, 4, 6, 8, 10, 12, 14, 16, 18, 20, 22]\n",
      "22A [3, 6, 9, 12, 15, 18, 21, 24, 27, 30, 33]\n"
     ]
    }
   ],
   "source": [
    "for k,v in nb_step.items():\n",
    "    print(k,v)"
   ]
  },
  {
   "cell_type": "code",
   "execution_count": 82,
   "metadata": {},
   "outputs": [
    {
     "name": "stdout",
     "output_type": "stream",
     "text": [
      "['11A', '22A']\n",
      "[[2, 4, 6, 8, 10, 12, 14, 16, 18, 20, 22], [3, 6, 9, 12, 15, 18, 21, 24, 27, 30, 33]]\n"
     ]
    },
    {
     "data": {
      "text/plain": [
       "[6, 12, 18]"
      ]
     },
     "execution_count": 82,
     "metadata": {},
     "output_type": "execute_result"
    }
   ],
   "source": [
    "print([i for i in nb_step])\n",
    "print([i for i in nb_step.values()])\n",
    "[x for x in nb_step['11A'] if x in nb_step['22A']]\n"
   ]
  },
  {
   "cell_type": "code",
   "execution_count": 76,
   "metadata": {},
   "outputs": [
    {
     "data": {
      "text/plain": [
       "{6}"
      ]
     },
     "execution_count": 76,
     "metadata": {},
     "output_type": "execute_result"
    }
   ],
   "source": [
    "all_values = [i for i in nb_step.values()]\n",
    "elements_in_all = set(all_values[0]).intersection(*all_values[1:])\n",
    "elements_in_all"
   ]
  },
  {
   "cell_type": "code",
   "execution_count": null,
   "metadata": {},
   "outputs": [],
   "source": []
  }
 ],
 "metadata": {
  "kernelspec": {
   "display_name": "anaconda-panel-2023.05-py310",
   "language": "python",
   "name": "conda-env-anaconda-panel-2023.05-py310-py"
  },
  "language_info": {
   "codemirror_mode": {
    "name": "ipython",
    "version": 3
   },
   "file_extension": ".py",
   "mimetype": "text/x-python",
   "name": "python",
   "nbconvert_exporter": "python",
   "pygments_lexer": "ipython3",
   "version": "3.11.5"
  }
 },
 "nbformat": 4,
 "nbformat_minor": 4
}
