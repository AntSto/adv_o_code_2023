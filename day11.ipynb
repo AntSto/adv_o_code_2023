{
 "cells": [
  {
   "cell_type": "code",
   "execution_count": 117,
   "metadata": {},
   "outputs": [],
   "source": [
    "galaxy=\"...#......\\n\\\n",
    ".......#..\\n\\\n",
    "#.........\\n\\\n",
    "..........\\n\\\n",
    "......#...\\n\\\n",
    ".#........\\n\\\n",
    ".........#\\n\\\n",
    "..........\\n\\\n",
    ".......#..\\n\\\n",
    "#...#.....\""
   ]
  },
  {
   "cell_type": "code",
   "execution_count": 118,
   "metadata": {},
   "outputs": [],
   "source": [
    "with open(r'C:\\Users\\SA012547\\Documents\\advent_of_code_2023\\day11_ex.txt') as f:\n",
    "    galaxy_lst = f.readlines()"
   ]
  },
  {
   "cell_type": "code",
   "execution_count": 119,
   "metadata": {},
   "outputs": [
    {
     "data": {
      "text/plain": [
       "['...#......\\n',\n",
       " '.......#..\\n',\n",
       " '#.........\\n',\n",
       " '..........\\n',\n",
       " '......#...\\n',\n",
       " '.#........\\n',\n",
       " '.........#\\n',\n",
       " '..........\\n',\n",
       " '.......#..\\n',\n",
       " '#...#.....']"
      ]
     },
     "execution_count": 119,
     "metadata": {},
     "output_type": "execute_result"
    }
   ],
   "source": [
    "galaxy_lst"
   ]
  },
  {
   "cell_type": "code",
   "execution_count": 120,
   "metadata": {},
   "outputs": [
    {
     "data": {
      "text/plain": [
       "[3, 8]"
      ]
     },
     "execution_count": 120,
     "metadata": {},
     "output_type": "execute_result"
    }
   ],
   "source": [
    "import re\n",
    "# galaxy_lst=galaxy.split('\\n')\n",
    "line=0\n",
    "gal=re.compile('#')\n",
    "idx_x=[]\n",
    "while line <len(galaxy_lst):\n",
    "    # print(gal.search(galaxy_lst[line]))\n",
    "    if gal.search(galaxy_lst[line]) is None:\n",
    "#         print(line, galaxy_lst[line])\n",
    "#         for z in range(100):\n",
    "        idx_x.append(line)\n",
    "        galaxy_lst.insert(line, galaxy_lst[line])\n",
    "        line+=1\n",
    "        \n",
    "    line+=1\n",
    "idx_x"
   ]
  },
  {
   "cell_type": "code",
   "execution_count": 121,
   "metadata": {},
   "outputs": [
    {
     "data": {
      "text/plain": [
       "['...#......\\n',\n",
       " '.......#..\\n',\n",
       " '#.........\\n',\n",
       " '..........\\n',\n",
       " '..........\\n',\n",
       " '......#...\\n',\n",
       " '.#........\\n',\n",
       " '.........#\\n',\n",
       " '..........\\n',\n",
       " '..........\\n',\n",
       " '.......#..\\n',\n",
       " '#...#.....']"
      ]
     },
     "execution_count": 121,
     "metadata": {},
     "output_type": "execute_result"
    }
   ],
   "source": [
    "galaxy_lst"
   ]
  },
  {
   "cell_type": "code",
   "execution_count": 122,
   "metadata": {},
   "outputs": [
    {
     "name": "stdout",
     "output_type": "stream",
     "text": [
      "..#........#\n",
      "......#.....\n",
      "............\n",
      "#...........\n",
      "...........#\n",
      "............\n",
      ".....#......\n",
      ".#........#.\n",
      "............\n",
      ".......#....\n"
     ]
    }
   ],
   "source": [
    "galaxy_lst = [''.join(x) for x in zip(*(galaxy_lst))]\n",
    "for i in galaxy_lst:\n",
    "    print (i)"
   ]
  },
  {
   "cell_type": "code",
   "execution_count": 123,
   "metadata": {},
   "outputs": [
    {
     "data": {
      "text/plain": [
       "(36, [2, 6, 10])"
      ]
     },
     "execution_count": 123,
     "metadata": {},
     "output_type": "execute_result"
    }
   ],
   "source": [
    "line=0\n",
    "gal=re.compile('#')\n",
    "gal_nb=0 \n",
    "idx_y=[]\n",
    "while line <len(galaxy_lst):\n",
    "    # s'il n'y a pas de # on rajoute une ligne\n",
    "    if gal.search(galaxy_lst[line]) is None:\n",
    "        galaxy_lst.insert(line, galaxy_lst[line])\n",
    "        idx_y.append(line)\n",
    "        line+=1\n",
    "    # sinon on compte le nb de # pour savoir combien de paires à trouver\n",
    "    else:\n",
    "        gal_nb+=len(gal.findall(galaxy_lst[line]))\n",
    "    line+=1\n",
    "nb_paires = sum(range(gal_nb))\n",
    "nb_paires, idx_y"
   ]
  },
  {
   "cell_type": "code",
   "execution_count": 124,
   "metadata": {},
   "outputs": [],
   "source": [
    "galaxy_lst=[''.join(x) for x in zip(*(galaxy_lst))]\n",
    "# galaxy_lst"
   ]
  },
  {
   "cell_type": "code",
   "execution_count": 125,
   "metadata": {},
   "outputs": [
    {
     "data": {
      "text/plain": [
       "[[0, 4], [1, 9], [2, 0], [5, 8], [6, 1], [7, 12], [10, 9], [11, 0], [11, 5]]"
      ]
     },
     "execution_count": 125,
     "metadata": {},
     "output_type": "execute_result"
    }
   ],
   "source": [
    "list_coord = []\n",
    "line=0\n",
    "while line <len(galaxy_lst):\n",
    "    nb_occ = ([m.start() for m in re.finditer('#', galaxy_lst[line])])\n",
    "    x=0\n",
    "    while x<len(nb_occ):\n",
    "        list_coord.append([line, nb_occ[x]])\n",
    "        x+=1\n",
    "    line+=1\n",
    "#     if gal.search(galaxy_lst[g]) is not None:\n",
    "#         print('f')\n",
    "list_coord\n",
    "# [2, 15]\n",
    "# [8]\n",
    "# []\n",
    "# [0]\n",
    "# [15]\n",
    "# []\n",
    "# [7]\n",
    "# [1, 14]\n",
    "# []\n",
    "# [9]"
   ]
  },
  {
   "cell_type": "code",
   "execution_count": null,
   "metadata": {},
   "outputs": [],
   "source": []
  },
  {
   "cell_type": "code",
   "execution_count": 148,
   "metadata": {},
   "outputs": [
    {
     "name": "stdout",
     "output_type": "stream",
     "text": [
      "0 [0, 3] [0, 3]\n",
      "5 [0, 3] [1, 7]\n",
      "5 [0, 3] [2, 0]\n",
      "7 [0, 3] [4, 6]\n",
      "7 [0, 3] [5, 1]\n",
      "12 [0, 3] [6, 9]\n",
      "12 [0, 3] [8, 7]\n",
      "12 [0, 3] [9, 0]\n",
      "10 [0, 3] [9, 4]\n",
      "0 [1, 7] [1, 7]\n",
      "8 [1, 7] [2, 0]\n",
      "4 [1, 7] [4, 6]\n",
      "10 [1, 7] [5, 1]\n",
      "7 [1, 7] [6, 9]\n",
      "7 [1, 7] [8, 7]\n",
      "15 [1, 7] [9, 0]\n",
      "11 [1, 7] [9, 4]\n",
      "0 [2, 0] [2, 0]\n",
      "8 [2, 0] [4, 6]\n",
      "4 [2, 0] [5, 1]\n",
      "13 [2, 0] [6, 9]\n",
      "13 [2, 0] [8, 7]\n",
      "7 [2, 0] [9, 0]\n",
      "11 [2, 0] [9, 4]\n",
      "0 [4, 6] [4, 6]\n",
      "6 [4, 6] [5, 1]\n",
      "5 [4, 6] [6, 9]\n",
      "5 [4, 6] [8, 7]\n",
      "11 [4, 6] [9, 0]\n",
      "7 [4, 6] [9, 4]\n",
      "0 [5, 1] [5, 1]\n",
      "9 [5, 1] [6, 9]\n",
      "9 [5, 1] [8, 7]\n",
      "5 [5, 1] [9, 0]\n",
      "7 [5, 1] [9, 4]\n",
      "0 [6, 9] [6, 9]\n",
      "4 [6, 9] [8, 7]\n",
      "12 [6, 9] [9, 0]\n",
      "8 [6, 9] [9, 4]\n",
      "0 [8, 7] [8, 7]\n",
      "8 [8, 7] [9, 0]\n",
      "4 [8, 7] [9, 4]\n",
      "0 [9, 0] [9, 0]\n",
      "4 [9, 0] [9, 4]\n",
      "0 [9, 4] [9, 4]\n",
      "45 sum:  292\n"
     ]
    }
   ],
   "source": [
    "# ok step1:\n",
    "distance=[]\n",
    "list_coord_a = list_coord\n",
    "list_coord_b = list_coord\n",
    "for i in range(len(list_coord_a)):\n",
    "    for y in range(len(list_coord_b)):\n",
    "#         print(list_coord[i][0], list_coord_b[y][0], idx_x)\n",
    "        dist=abs(list_coord[i][0]-list_coord_b[y][0])+abs(list_coord[i][1]-list_coord_b[y][1])\n",
    "#         print(dist, list_coord[i], list_coord_b[y])\n",
    "        distance.append(dist)\n",
    "    list_coord_b = list_coord_b[1:]\n",
    "#     print(list_coord_b)\n",
    "print(len(distance),'sum: ', sum(distance))"
   ]
  },
  {
   "cell_type": "code",
   "execution_count": 109,
   "metadata": {},
   "outputs": [
    {
     "data": {
      "text/plain": [
       "([3, 8], [2, 6, 10])"
      ]
     },
     "execution_count": 109,
     "metadata": {},
     "output_type": "execute_result"
    }
   ],
   "source": [
    "idx_x, idx_y"
   ]
  },
  {
   "cell_type": "code",
   "execution_count": 168,
   "metadata": {},
   "outputs": [],
   "source": [
    "# step 2\n",
    "with open(r'C:\\Users\\SA012547\\Documents\\advent_of_code_2023\\day11.txt') as f:\n",
    "    galaxy_lst = f.readlines()"
   ]
  },
  {
   "cell_type": "code",
   "execution_count": 169,
   "metadata": {},
   "outputs": [
    {
     "data": {
      "text/plain": [
       "[55, 62, 72, 75, 88, 89]"
      ]
     },
     "execution_count": 169,
     "metadata": {},
     "output_type": "execute_result"
    }
   ],
   "source": [
    "import re\n",
    "# galaxy_lst=galaxy.split('\\n')\n",
    "line=0\n",
    "gal=re.compile('#')\n",
    "idx_x=[]\n",
    "while line <len(galaxy_lst):\n",
    "    # print(gal.search(galaxy_lst[line]))\n",
    "    if gal.search(galaxy_lst[line]) is None:\n",
    "#         print(line, galaxy_lst[line])\n",
    "#         for z in range(100):\n",
    "        idx_x.append(line)\n",
    "#         galaxy_lst.insert(line, galaxy_lst[line])\n",
    "#         line+=1\n",
    "        \n",
    "    line+=1\n",
    "idx_x"
   ]
  },
  {
   "cell_type": "code",
   "execution_count": 170,
   "metadata": {},
   "outputs": [],
   "source": [
    "galaxy_lst = [''.join(x) for x in zip(*(galaxy_lst))]"
   ]
  },
  {
   "cell_type": "code",
   "execution_count": 171,
   "metadata": {},
   "outputs": [
    {
     "data": {
      "text/plain": [
       "(97020, [35, 59, 77, 79, 81, 97, 123])"
      ]
     },
     "execution_count": 171,
     "metadata": {},
     "output_type": "execute_result"
    }
   ],
   "source": [
    "\n",
    "line=0\n",
    "gal=re.compile('#')\n",
    "gal_nb=0 \n",
    "idx_y=[]\n",
    "while line <len(galaxy_lst):\n",
    "    # s'il n'y a pas de # on rajoute une ligne\n",
    "    if gal.search(galaxy_lst[line]) is None:\n",
    "#         galaxy_lst.insert(line, galaxy_lst[line])\n",
    "        idx_y.append(line)\n",
    "#         line+=1\n",
    "    # sinon on compte le nb de # pour savoir combien de paires à trouver\n",
    "    else:\n",
    "        gal_nb+=len(gal.findall(galaxy_lst[line]))\n",
    "    line+=1\n",
    "nb_paires = sum(range(gal_nb))\n",
    "nb_paires, idx_y"
   ]
  },
  {
   "cell_type": "code",
   "execution_count": 172,
   "metadata": {},
   "outputs": [],
   "source": [
    "galaxy_lst=[''.join(x) for x in zip(*(galaxy_lst))]"
   ]
  },
  {
   "cell_type": "code",
   "execution_count": 173,
   "metadata": {},
   "outputs": [],
   "source": [
    "list_coord = []\n",
    "line=0\n",
    "while line <len(galaxy_lst):\n",
    "    nb_occ = ([m.start() for m in re.finditer('#', galaxy_lst[line])])\n",
    "    x=0\n",
    "    while x<len(nb_occ):\n",
    "        list_coord.append([line, nb_occ[x]])\n",
    "        x+=1\n",
    "    line+=1\n",
    "#     if gal.search(galaxy_lst[g]) is not None:\n",
    "#         print('f')\n",
    "# list_coord"
   ]
  },
  {
   "cell_type": "code",
   "execution_count": 174,
   "metadata": {},
   "outputs": [],
   "source": [
    "# # ok step1:\n",
    "# distance=[]\n",
    "# list_coord_a = list_coord\n",
    "# list_coord_b = list_coord\n",
    "# augment = 0\n",
    "# for i in range(len(list_coord_a)):\n",
    "#     for y in range(len(list_coord_b)):\n",
    "#         for z in range \n",
    "# #         print(list_coord[i][0], list_coord_b[y][0], idx_x)\n",
    "#         dist=abs(list_coord[i][0]-list_coord_b[y][0])+abs(list_coord[i][1]-list_coord_b[y][1])\n",
    "# #         print(dist, list_coord[i], list_coord_b[y])\n",
    "#         distance.append(dist)\n",
    "#     list_coord_b = list_coord_b[1:]\n",
    "# #     print(list_coord_b)\n",
    "# print(len(distance),'sum: ', sum(distance))"
   ]
  },
  {
   "cell_type": "code",
   "execution_count": null,
   "metadata": {},
   "outputs": [],
   "source": []
  },
  {
   "cell_type": "code",
   "execution_count": null,
   "metadata": {},
   "outputs": [],
   "source": []
  },
  {
   "cell_type": "code",
   "execution_count": 175,
   "metadata": {},
   "outputs": [
    {
     "name": "stdout",
     "output_type": "stream",
     "text": [
      "97461 sum:  569052586852\n"
     ]
    }
   ],
   "source": [
    "distance=[]\n",
    "list_coord_a = list_coord\n",
    "list_coord_b = list_coord\n",
    "augment = 0\n",
    "for i in range(len(list_coord_a)):\n",
    "    augment = 0\n",
    "    for y in range(len(list_coord_b)):\n",
    "        augment = 0\n",
    "        for idx in range(len(idx_x)):\n",
    "            min_x = min([list_coord[i][0], list_coord_b[y][0]])\n",
    "            max_x = max([list_coord[i][0], list_coord_b[y][0]])\n",
    "            if max_x > idx_x[idx] >min_x:\n",
    "                augment+=999999\n",
    "        for idx2 in range(len(idx_y)):\n",
    "            min_y= min([list_coord[i][1], list_coord_b[y][1]])\n",
    "            max_y = max([list_coord[i][1], list_coord_b[y][1]])\n",
    "            if max_y > idx_y[idx2] >min_y:\n",
    "                augment+=999999\n",
    "        if list_coord_a[i]==list_coord_b[y] :\n",
    "            augment = 0\n",
    "#         print(list_coord[i][0], list_coord_b[y][0], idx_x)\n",
    "        dist=abs(list_coord[i][0]-list_coord_b[y][0])+abs(list_coord[i][1]-list_coord_b[y][1])+augment\n",
    "#         print(dist, list_coord[i], list_coord_b[y], augment)\n",
    "        distance.append(dist)\n",
    "    list_coord_b = list_coord_b[1:]\n",
    "#     print(list_coord_b)\n",
    "print(len(distance),'sum: ', sum(distance))\n",
    "# 10 => 1030\n",
    "# 100 => 8410"
   ]
  },
  {
   "cell_type": "code",
   "execution_count": null,
   "metadata": {},
   "outputs": [],
   "source": []
  }
 ],
 "metadata": {
  "kernelspec": {
   "display_name": "python310",
   "language": "python",
   "name": "python310"
  },
  "language_info": {
   "codemirror_mode": {
    "name": "ipython",
    "version": 3
   },
   "file_extension": ".py",
   "mimetype": "text/x-python",
   "name": "python",
   "nbconvert_exporter": "python",
   "pygments_lexer": "ipython3",
   "version": "3.10.8"
  }
 },
 "nbformat": 4,
 "nbformat_minor": 5
}
