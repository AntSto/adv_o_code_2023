{
 "cells": [
  {
   "cell_type": "code",
   "execution_count": 37,
   "id": "360e7294-2854-4822-a18d-7476fdc19f1f",
   "metadata": {},
   "outputs": [],
   "source": [
    "galaxy=\"...#......\\n\\\n",
    ".......#..\\n\\\n",
    "#.........\\n\\\n",
    "..........\\n\\\n",
    "......#...\\n\\\n",
    ".#........\\n\\\n",
    ".........#\\n\\\n",
    "..........\\n\\\n",
    ".......#..\\n\\\n",
    "#...#.....\""
   ]
  },
  {
   "cell_type": "code",
   "execution_count": 63,
   "id": "10cc038c-93c0-4143-b724-32d90a23d859",
   "metadata": {},
   "outputs": [
    {
     "name": "stdout",
     "output_type": "stream",
     "text": [
      "<re.Match object; span=(3, 4), match='#'>\n",
      "<re.Match object; span=(7, 8), match='#'>\n",
      "<re.Match object; span=(0, 1), match='#'>\n",
      "None\n",
      "<re.Match object; span=(6, 7), match='#'>\n",
      "<re.Match object; span=(1, 2), match='#'>\n",
      "<re.Match object; span=(9, 10), match='#'>\n",
      "None\n",
      "<re.Match object; span=(7, 8), match='#'>\n",
      "<re.Match object; span=(0, 1), match='#'>\n"
     ]
    }
   ],
   "source": [
    "import re\n",
    "galaxy_lst=galaxy.split('\\n')\n",
    "line=0\n",
    "gal=re.compile('#')\n",
    "while line <len(galaxy_lst):\n",
    "    # print(gal.search(galaxy_lst[line]))\n",
    "    if gal.search(galaxy_lst[line]) is None:\n",
    "        galaxy_lst.insert(line, galaxy_lst[line])\n",
    "        line+=1\n",
    "    line+=1"
   ]
  },
  {
   "cell_type": "code",
   "execution_count": 65,
   "id": "9e995dca-cb04-493f-a317-29625f53156c",
   "metadata": {},
   "outputs": [
    {
     "data": {
      "text/plain": [
       "['...#......',\n",
       " '.......#..',\n",
       " '#.........',\n",
       " '..........',\n",
       " '..........',\n",
       " '......#...',\n",
       " '.#........',\n",
       " '.........#',\n",
       " '..........',\n",
       " '..........',\n",
       " '.......#..',\n",
       " '#...#.....']"
      ]
     },
     "execution_count": 65,
     "metadata": {},
     "output_type": "execute_result"
    }
   ],
   "source": [
    "galaxy_lst"
   ]
  },
  {
   "cell_type": "code",
   "execution_count": 67,
   "id": "54a1d1e6-31d6-4b30-a0c4-bced8e0d32cf",
   "metadata": {},
   "outputs": [
    {
     "name": "stdout",
     "output_type": "stream",
     "text": [
      "..#........#\n",
      "......#.....\n",
      "............\n",
      "#...........\n",
      "...........#\n",
      "............\n",
      ".....#......\n",
      ".#........#.\n",
      "............\n",
      ".......#....\n"
     ]
    }
   ],
   "source": [
    "galaxy_lst = [''.join(x) for x in zip(*(galaxy_lst))]\n",
    "for i in galaxy_lst:\n",
    "   print (i)"
   ]
  },
  {
   "cell_type": "code",
   "execution_count": 71,
   "id": "725c946b-d9bf-4a34-8508-e31aab85e88e",
   "metadata": {},
   "outputs": [],
   "source": [
    "line=0\n",
    "gal=re.compile('#')\n",
    "while line <len(galaxy_lst):\n",
    "    # print(gal.search(galaxy_lst[line]))\n",
    "    if gal.search(galaxy_lst[line]) is None:\n",
    "        galaxy_lst.insert(line, galaxy_lst[line])\n",
    "        line+=1\n",
    "    line+=1"
   ]
  },
  {
   "cell_type": "code",
   "execution_count": 73,
   "id": "968bb9db-b03f-42b0-b74a-6c5f652f19eb",
   "metadata": {},
   "outputs": [
    {
     "data": {
      "text/plain": [
       "['....#........',\n",
       " '.........#...',\n",
       " '#............',\n",
       " '.............',\n",
       " '.............',\n",
       " '........#....',\n",
       " '.#...........',\n",
       " '............#',\n",
       " '.............',\n",
       " '.............',\n",
       " '.........#...',\n",
       " '#....#.......']"
      ]
     },
     "execution_count": 73,
     "metadata": {},
     "output_type": "execute_result"
    }
   ],
   "source": [
    "galaxy_lst=[''.join(x) for x in zip(*(galaxy_lst))]\n",
    "galaxy_lst"
   ]
  },
  {
   "cell_type": "code",
   "execution_count": null,
   "id": "7bc0aca5-a0b0-4887-89ac-0a35cfc6e258",
   "metadata": {},
   "outputs": [],
   "source": []
  }
 ],
 "metadata": {
  "kernelspec": {
   "display_name": "anaconda-panel-2023.05-py310",
   "language": "python",
   "name": "conda-env-anaconda-panel-2023.05-py310-py"
  },
  "language_info": {
   "codemirror_mode": {
    "name": "ipython",
    "version": 3
   },
   "file_extension": ".py",
   "mimetype": "text/x-python",
   "name": "python",
   "nbconvert_exporter": "python",
   "pygments_lexer": "ipython3",
   "version": "3.11.5"
  }
 },
 "nbformat": 4,
 "nbformat_minor": 5
}
