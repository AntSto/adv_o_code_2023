{
 "cells": [
  {
   "cell_type": "code",
   "execution_count": null,
   "metadata": {},
   "outputs": [],
   "source": [
    "#Time:        41     96     88     94\n",
    "# Distance:   214   1789   1127   1055\n",
    "\n",
    "# To see how much margin of error you have, determine the number of ways you can beat the record in each race; in this example, if you multiply these values together, you get 288 (4 * 8 * 9)."
   ]
  },
  {
   "cell_type": "code",
   "execution_count": 1,
   "metadata": {},
   "outputs": [],
   "source": [
    "import pandas as pd"
   ]
  },
  {
   "cell_type": "code",
   "execution_count": 2,
   "metadata": {},
   "outputs": [],
   "source": [
    "data = [[41, 214], [96, 1789], [88, 1127], [94,1055]]\n",
    "# data=[[7,9], [15,40], [30,200]]\n",
    "data=pd.DataFrame(data, columns=['time', 'record'])\n",
    "data['nb']=[[], [], [], []]\n",
    "data['win']=0"
   ]
  },
  {
   "cell_type": "code",
   "execution_count": 3,
   "metadata": {},
   "outputs": [
    {
     "name": "stderr",
     "output_type": "stream",
     "text": [
      "C:\\Users\\SA012547\\AppData\\Local\\Temp\\ipykernel_18528\\355376193.py:16: SettingWithCopyWarning: \n",
      "A value is trying to be set on a copy of a slice from a DataFrame\n",
      "\n",
      "See the caveats in the documentation: https://pandas.pydata.org/pandas-docs/stable/user_guide/indexing.html#returning-a-view-versus-a-copy\n",
      "  data['nb'][y]=distance\n",
      "C:\\Users\\SA012547\\AppData\\Local\\Temp\\ipykernel_18528\\355376193.py:18: SettingWithCopyWarning: \n",
      "A value is trying to be set on a copy of a slice from a DataFrame\n",
      "\n",
      "See the caveats in the documentation: https://pandas.pydata.org/pandas-docs/stable/user_guide/indexing.html#returning-a-view-versus-a-copy\n",
      "  data['win'][y]= len(distance)\n"
     ]
    }
   ],
   "source": [
    "col_distance = []\n",
    "col_win= []\n",
    "y=0\n",
    "while y < len(data['time']):\n",
    "    current_record = data['record'][y]\n",
    "    time = data['time'][y]\n",
    "    distance = []\n",
    "    i=0\n",
    "    while i < time:\n",
    "        dist = (time-i)*i \n",
    "        if dist > current_record:\n",
    "            distance.append((time-i)*i)\n",
    "        i+=1\n",
    "#         print(distance)\n",
    "#     print(data['nb'][y])    \n",
    "    data['nb'][y]=distance\n",
    "    \n",
    "    data['win'][y]= len(distance)\n",
    "    y+=1"
   ]
  },
  {
   "cell_type": "code",
   "execution_count": 4,
   "metadata": {},
   "outputs": [
    {
     "data": {
      "text/plain": [
       "4811940"
      ]
     },
     "execution_count": 4,
     "metadata": {},
     "output_type": "execute_result"
    }
   ],
   "source": [
    "# on multiplie tout les chiffres de la colonne win\n",
    "data['win'].prod().tolist()"
   ]
  },
  {
   "cell_type": "code",
   "execution_count": 5,
   "metadata": {},
   "outputs": [],
   "source": [
    "# part 2"
   ]
  },
  {
   "cell_type": "code",
   "execution_count": null,
   "metadata": {},
   "outputs": [],
   "source": [
    "# juste concatenation des chiffres de l'input..."
   ]
  },
  {
   "cell_type": "code",
   "execution_count": 6,
   "metadata": {},
   "outputs": [
    {
     "data": {
      "text/html": [
       "<div>\n",
       "<style scoped>\n",
       "    .dataframe tbody tr th:only-of-type {\n",
       "        vertical-align: middle;\n",
       "    }\n",
       "\n",
       "    .dataframe tbody tr th {\n",
       "        vertical-align: top;\n",
       "    }\n",
       "\n",
       "    .dataframe thead th {\n",
       "        text-align: right;\n",
       "    }\n",
       "</style>\n",
       "<table border=\"1\" class=\"dataframe\">\n",
       "  <thead>\n",
       "    <tr style=\"text-align: right;\">\n",
       "      <th></th>\n",
       "      <th>time</th>\n",
       "      <th>record</th>\n",
       "      <th>nb</th>\n",
       "      <th>win</th>\n",
       "    </tr>\n",
       "  </thead>\n",
       "  <tbody>\n",
       "    <tr>\n",
       "      <th>0</th>\n",
       "      <td>41968894</td>\n",
       "      <td>214178911271055</td>\n",
       "      <td>[]</td>\n",
       "      <td>0</td>\n",
       "    </tr>\n",
       "  </tbody>\n",
       "</table>\n",
       "</div>"
      ],
      "text/plain": [
       "       time           record  nb  win\n",
       "0  41968894  214178911271055  []    0"
      ]
     },
     "execution_count": 6,
     "metadata": {},
     "output_type": "execute_result"
    }
   ],
   "source": [
    "data2 = [[41968894, 214178911271055]]\n",
    "data2=pd.DataFrame(data2, columns=['time', 'record'])\n",
    "data2['nb']=[[]]\n",
    "data2['win']=0\n",
    "data2"
   ]
  },
  {
   "cell_type": "code",
   "execution_count": 7,
   "metadata": {},
   "outputs": [],
   "source": [
    "# jupyter notebook --NotebookApp.iopub_data_rate_limit=1.0e10\n",
    "# pour depasser la limite de base pour le calcul"
   ]
  },
  {
   "cell_type": "code",
   "execution_count": 8,
   "metadata": {},
   "outputs": [],
   "source": [
    "# 41968894"
   ]
  },
  {
   "cell_type": "code",
   "execution_count": 9,
   "metadata": {},
   "outputs": [
    {
     "name": "stdout",
     "output_type": "stream",
     "text": [
      "30077773\n"
     ]
    }
   ],
   "source": [
    "i=0\n",
    "distance = []\n",
    "current_record = data2['record'][0]\n",
    "time = data2['time'][0]\n",
    "i = 0\n",
    "while i <  41968894:\n",
    "    dist = (time-i)*i \n",
    "    if dist > current_record:\n",
    "        distance.append((time-i)*i)\n",
    "    i+=1\n",
    "print(len(distance))"
   ]
  },
  {
   "cell_type": "code",
   "execution_count": null,
   "metadata": {},
   "outputs": [],
   "source": []
  }
 ],
 "metadata": {
  "kernelspec": {
   "display_name": "python310",
   "language": "python",
   "name": "python310"
  },
  "language_info": {
   "codemirror_mode": {
    "name": "ipython",
    "version": 3
   },
   "file_extension": ".py",
   "mimetype": "text/x-python",
   "name": "python",
   "nbconvert_exporter": "python",
   "pygments_lexer": "ipython3",
   "version": "3.10.8"
  }
 },
 "nbformat": 4,
 "nbformat_minor": 4
}
